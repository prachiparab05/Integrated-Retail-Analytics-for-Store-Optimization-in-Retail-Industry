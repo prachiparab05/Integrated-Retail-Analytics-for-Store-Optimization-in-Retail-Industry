{
  "cells": [
    {
      "cell_type": "markdown",
      "metadata": {
        "id": "qzDmlsayBjpe"
      },
      "source": []
    },
    {
      "cell_type": "markdown",
      "metadata": {
        "id": "vncDsAP0Gaoa"
      },
      "source": [
        "# **Project Name**    - Integrated Retail Analytics for Sales Optimization\n",
        "\n",
        "\n",
        "\n"
      ]
    },
    {
      "cell_type": "markdown",
      "metadata": {
        "id": "beRrZCGUAJYm"
      },
      "source": [
        "##### **Project Type**     - EDA/Regression/Classification/Unsupervised\n",
        "##### **Contribution**     - Individual\n",
        "##### **Team Member Name** - Prachi Parab\n"
      ]
    },
    {
      "cell_type": "markdown",
      "metadata": {
        "id": "FJNUwmbgGyua",
        "jp-MarkdownHeadingCollapsed": true
      },
      "source": [
        "# **Project Summary -**"
      ]
    },
    {
      "cell_type": "markdown",
      "metadata": {
        "id": "F6v_1wHtG2nS",
        "jp-MarkdownHeadingCollapsed": true
      },
      "source": [
        "# **Project Summary -**\n",
        "\n",
        "This project is focused on building a machine learning model to accurately forecast weekly sales for a large retail company. The primary goal is to provide a data-driven tool for optimizing key business operations such as inventory management, staff allocation, and promotional planning.\n",
        "\n",
        "The project will proceed through a structured pipeline:\n",
        "1.  **Data loading and Integration:** We will begin by loading three separate datasets: historical sales data, store-specific information (like type and size), and weekly features which include economic indicators and promotional markdown data. These datasets will be merged into a single, comprehensive DataFrame for analysis.\n",
        "2.  **Data Cleaning and EDA:** The consolidated data will be cleaned to handle missing values and inconsistencies. Following this, a thorough Exploratory Data Analysis (EDA) will be conducted to visualize data distributions, identify trends (such as seasonality), and uncover relationships between different variables and weekly sales.\n",
        "3.  **Feature Engineering:** To improve model performance, we will engineer new features from the existing data. This will involve extracting temporal information (year, month, week) from the date column and converting categorical variables into a numerical format suitable for machine learning algorithms.\n",
        "4.  **Model Building and Evaluation:** Several regression models will be implemented, including Linear Regression, Ridge, Lasso, Random Forest, and Gradient Boosting. Each model's performance will be evaluated using standard metrics like Mean Absolute Error (MAE), Root Mean Squared Error (RMSE), and the R-squared (R²) score.\n",
        "5.  **Model Selection and Interpretation:** The best-performing model will be selected based on the evaluation metrics. We will then delve into interpreting this model, primarily by analyzing its feature importances to understand which factors are the most significant drivers of sales.\n",
        "\n",
        "Ultimately, this project will deliver a trained predictive model and actionable insights that can help the retail company make more informed, data-driven decisions."
      ]
    },
    {
      "cell_type": "markdown",
      "metadata": {
        "id": "yQaldy8SH6Dl"
      },
      "source": [
        "# **Problem Statement**\n"
      ]
    },
    {
      "cell_type": "markdown",
      "metadata": {
        "id": "DpeJGUA3kjGy"
      },
      "source": [
        "\n",
        "**Business Problem:** A large retail corporation needs to forecast its weekly sales for each department within its various stores. Accurate sales predictions are essential for making critical business decisions related to inventory management, staffing levels, and evaluating the effectiveness of marketing campaigns. Over-prediction leads to excessive inventory costs, while under-prediction results in stockouts and lost revenue.\n",
        "\n",
        "**Machine Learning Problem:** The task is to build a robust regression model that can predict the `Weekly_Sales` for a given store and department. The model should leverage historical sales data along with associated information, including store characteristics (size, type), holiday flags, and various economic factors (temperature, fuel price, CPI, unemployment)."
      ]
    },
    {
      "cell_type": "markdown",
      "metadata": {
        "id": "mDgbUHAGgjLW"
      },
      "source": [
        "# **General Guidelines** : -  "
      ]
    },
    {
      "cell_type": "markdown",
      "metadata": {
        "id": "ZrxVaUj-hHfC"
      },
      "source": [
        "1.   Well-structured, formatted, and commented code is required.\n",
        "2.   Exception Handling, Production Grade Code & Deployment Ready Code will be a plus. Those students will be awarded some additional credits.\n",
        "     \n",
        "     The additional credits will have advantages over other students during Star Student selection.\n",
        "       \n",
        "             [ Note: - Deployment Ready Code is defined as, the whole .ipynb notebook should be executable in one go\n",
        "                       without a single error logged. ]\n",
        "\n",
        "3.   Each and every logic should have proper comments.\n",
        "4. You may add as many number of charts you want. Make Sure for each and every chart the following format should be answered.\n",
        "        \n",
        "\n",
        "```\n",
        "# Chart visualization code\n",
        "```\n",
        "            \n",
        "\n",
        "*   Why did you pick the specific chart?\n",
        "*   What is/are the insight(s) found from the chart?\n",
        "* Will the gained insights help creating a positive business impact?\n",
        "Are there any insights that lead to negative growth? Justify with specific reason.\n",
        "\n",
        "5. You have to create at least 15 logical & meaningful charts having important insights.\n",
        "\n",
        "\n",
        "[ Hints : - Do the Vizualization in  a structured way while following \"UBM\" Rule.\n",
        "\n",
        "U - Univariate Analysis,\n",
        "\n",
        "B - Bivariate Analysis (Numerical - Categorical, Numerical - Numerical, Categorical - Categorical)\n",
        "\n",
        "M - Multivariate Analysis\n",
        " ]\n",
        "\n",
        "\n",
        "\n",
        "\n",
        "\n",
        "6. You may add more ml algorithms for model creation. Make sure for each and every algorithm, the following format should be answered.\n",
        "\n",
        "\n",
        "*   Explain the ML Model used and it's performance using Evaluation metric Score Chart.\n",
        "\n",
        "\n",
        "*   Cross- Validation & Hyperparameter Tuning\n",
        "\n",
        "*   Have you seen any improvement? Note down the improvement with updates Evaluation metric Score Chart.\n",
        "\n",
        "*   Explain each evaluation metric's indication towards business and the business impact pf the ML model used.\n",
        "\n",
        "\n",
        "\n",
        "\n",
        "\n",
        "\n",
        "\n",
        "\n",
        "\n",
        "\n",
        "\n",
        "\n",
        "\n",
        "\n",
        "\n",
        "\n",
        "\n",
        "\n"
      ]
    },
    {
      "cell_type": "markdown",
      "metadata": {
        "id": "O_i_v8NEhb9l"
      },
      "source": [
        "# ***Let's Begin !***"
      ]
    },
    {
      "cell_type": "markdown",
      "metadata": {
        "id": "HhfV-JJviCcP"
      },
      "source": [
        "## ***1. Know Your Data***"
      ]
    },
    {
      "cell_type": "markdown",
      "metadata": {
        "id": "Y3lxredqlCYt"
      },
      "source": [
        "### Import Libraries"
      ]
    },
    {
      "cell_type": "code",
      "execution_count": null,
      "metadata": {
        "id": "M8Vqi-pPk-HR"
      },
      "outputs": [],
      "source": [
        "# Import Libraries\n",
        "import numpy as np\n",
        "import pandas as pd\n",
        "import matplotlib.pyplot as plt\n",
        "import seaborn as sns\n",
        "from sklearn.model_selection import train_test_split\n",
        "from sklearn.linear_model import LinearRegression, Ridge, Lasso, ElasticNet\n",
        "from sklearn.ensemble import RandomForestRegressor, GradientBoostingRegressor\n",
        "from sklearn.metrics import mean_squared_error, r2_score, mean_absolute_error\n",
        "import warnings\n",
        "warnings.filterwarnings('ignore')"
      ]
    },
    {
      "cell_type": "markdown",
      "metadata": {
        "id": "3RnN4peoiCZX"
      },
      "source": [
        "### Dataset Loading"
      ]
    },
    {
      "cell_type": "code",
      "execution_count": null,
      "metadata": {
        "id": "4CkvbW_SlZ_R"
      },
      "outputs": [],
      "source": [
        "sales_df = pd.read_csv('sales data-set.csv')\n",
        "stores_df = pd.read_csv('stores data-set.csv')\n",
        "features_df = pd.read_csv('Features data set.csv')"
      ]
    },
    {
      "cell_type": "markdown",
      "metadata": {
        "id": "x71ZqKXriCWQ"
      },
      "source": [
        "### Dataset First View"
      ]
    },
    {
      "cell_type": "code",
      "execution_count": null,
      "metadata": {
        "id": "idfEvyb27iuA"
      },
      "outputs": [],
      "source": [
        "# Dataset First Look\n",
        "print(\"Sales Data:\")\n",
        "print(sales_df.head())\n",
        "print(\"\\n\" + \"=\"*50 + \"\\n\")\n",
        "print(\"Features Data:\")\n",
        "print(features_df.head())\n",
        "print(\"\\n\" + \"=\"*50 + \"\\n\")\n",
        "print(\"Stores Data:\")\n",
        "print(stores_df.head())"
      ]
    },
    {
      "cell_type": "markdown",
      "metadata": {
        "id": "7hBIi_osiCS2"
      },
      "source": [
        "### Dataset Rows & Columns count"
      ]
    },
    {
      "cell_type": "code",
      "execution_count": null,
      "metadata": {
        "id": "Kllu7SJgmLij"
      },
      "outputs": [],
      "source": [
        "# Dataset Rows & Columns count\n",
        "print(f\"Sales Data Shape: {sales_df.shape}\")\n",
        "print(f\"Features Data Shape: {features_df.shape}\")\n",
        "print(f\"Stores Data Shape: {stores_df.shape}\")"
      ]
    },
    {
      "cell_type": "markdown",
      "metadata": {
        "id": "JlHwYmJAmNHm"
      },
      "source": [
        "### Dataset Information"
      ]
    },
    {
      "cell_type": "code",
      "execution_count": null,
      "metadata": {
        "id": "e9hRXRi6meOf"
      },
      "outputs": [],
      "source": [
        "# Dataset Info\n",
        "print(\"Sales Data Info:\")\n",
        "sales_df.info()\n",
        "print(\"\\n\" + \"=\"*50 + \"\\n\")\n",
        "print(\"Features Data Info:\")\n",
        "features_df.info()\n",
        "print(\"\\n\" + \"=\"*50 + \"\\n\")\n",
        "print(\"Stores Data Info:\")\n",
        "stores_df.info()"
      ]
    },
    {
      "cell_type": "markdown",
      "metadata": {
        "id": "35m5QtbWiB9F"
      },
      "source": [
        "#### Duplicate Values"
      ]
    },
    {
      "cell_type": "code",
      "execution_count": null,
      "metadata": {
        "id": "1sLdpKYkmox0"
      },
      "outputs": [],
      "source": [
        "# Dataset Duplicate Value Count\n",
        "print(f\"Duplicate rows in sales data: {sales_df.duplicated().sum()}\")\n",
        "print(f\"Duplicate rows in features data: {features_df.duplicated().sum()}\")\n",
        "print(f\"Duplicate rows in stores data: {stores_df.duplicated().sum()}\")"
      ]
    },
    {
      "cell_type": "markdown",
      "metadata": {
        "id": "PoPl-ycgm1ru"
      },
      "source": [
        "#### Missing Values/Null Values"
      ]
    },
    {
      "cell_type": "code",
      "execution_count": null,
      "metadata": {
        "id": "GgHWkxvamxVg"
      },
      "outputs": [],
      "source": [
        "# Missing Values/Null Values Count\n",
        "print(\"Missing values in sales data:\")\n",
        "print(sales_df.isnull().sum())\n",
        "print(\"\\n\" + \"=\"*50 + \"\\n\")\n",
        "print(\"Missing values in features data:\")\n",
        "print(features_df.isnull().sum())\n",
        "print(\"\\n\" + \"=\"*50 + \"\\n\")\n",
        "print(\"Missing values in stores data:\")\n",
        "print(stores_df.isnull().sum())"
      ]
    },
    {
      "cell_type": "code",
      "execution_count": null,
      "metadata": {
        "id": "3q5wnI3om9sJ"
      },
      "outputs": [],
      "source": [
        "# --- Visualizing Missing Values ---\n",
        "\n",
        "# First, let's re-merge the datasets to get the raw, pre-imputation state\n",
        "df_raw_merged = pd.merge(sales_df, stores_df, on='Store', how='left')\n",
        "df_raw_merged = pd.merge(df_raw_merged, features_df, on=['Store', 'Date', 'IsHoliday'], how='left')\n",
        "\n",
        "# Create the plot\n",
        "plt.figure(figsize=(15, 8))\n",
        "sns.heatmap(df_raw_merged.isnull(), cbar=False, cmap='viridis')\n",
        "\n",
        "# Add titles and labels for clarity\n",
        "plt.title('Heatmap of Missing Values in the Merged Dataset', fontsize=16)\n",
        "plt.xlabel('Features', fontsize=12)\n",
        "plt.ylabel('Rows (Data Points)', fontsize=12)\n",
        "plt.show()"
      ]
    },
    {
      "cell_type": "markdown",
      "metadata": {
        "id": "wt2ahH9_7iuE"
      },
      "source": [
        "##### 1. Why did you pick the chart?\n",
        "Answer Here.\n",
        "\n",
        "I chose a **heatmap** to visualize the missing values because it provides a clear and immediate matrix-style overview of the entire dataset's completeness. In this chart, each column represents a feature and each row represents a data point. The yellow lines indicate the presence of missing (null) data. This visualization makes it very easy to spot patterns in missingness, such as which columns are most affected.\n",
        "\n",
        "##### 2. What is/are the insight(s) found from the chart?\n",
        "Answer Here.\n",
        "\n",
        "The heatmap instantly reveals several crucial insights:\n",
        "* **Completeness:** The columns from the `sales` and `stores` datasets (`Store`, `Dept`, `Weekly_Sales`, `Type`, `Size`) are completely filled, with no missing data.\n",
        "* **Concentrated Missingness:** All the missing data comes from the `features` dataset and is heavily concentrated in the `MarkDown1` through `MarkDown5` columns. This confirms our earlier hypothesis that missing markdown data is not random but systematic, likely indicating weeks where no promotions were active.\n",
        "* **Minor Gaps:** There are very thin, almost invisible lines of missing data in the `CPI` and `Unemployment` columns, confirming that these have only a few null values that need to be addressed."
      ]
    },
    {
      "cell_type": "markdown",
      "metadata": {
        "id": "H0kj-8xxnORC"
      },
      "source": [
        "### What did you know about your dataset?"
      ]
    },
    {
      "cell_type": "markdown",
      "metadata": {
        "id": "gfoNAAC-nUe_"
      },
      "source": [
        "Based on the initial exploration, here's what I know about the datasets:\n",
        "\n",
        "1.  **Three Separate Files:** The data is logically divided into three parts:\n",
        "    * `sales data-set.csv`: This is the core transactional data, containing `Weekly_Sales` for each `Store` and `Dept` on a specific `Date`.\n",
        "    * `stores data-set.csv`: This file provides metadata about each store, namely its `Type` (A, B, or C) and its `Size`.\n",
        "    * `Features data set.csv`: This dataset contains external factors that might influence sales, recorded on a weekly basis for each store. These include `Temperature`, `Fuel_Price`, consumer price index (`CPI`), `Unemployment` rate, and promotional `MarkDown` data.\n",
        "\n",
        "2.  **Data Granularity:** The lowest level of detail is at the store-department-date level. To build a predictive model, these three datasets will need to be merged into a single comprehensive dataset.\n",
        "\n",
        "3.  **Data Types:** The `Date` column in both `sales` and `features` datasets is currently an object (string) and will need to be converted to a proper datetime format for time-series analysis and feature engineering. `IsHoliday` is a boolean and should be converted to an integer (0 or 1).\n",
        "\n",
        "4.  **Missing Values:**\n",
        "    * The `sales` and `stores` datasets are complete with no missing values.\n",
        "    * The `features` dataset has a significant number of missing values, but they are concentrated in the `MarkDown` columns. This is likely not an error; it probably indicates that no promotional markdown was applied for those weeks. These can likely be filled with `0`. The `CPI` and `Unemployment` columns also have a few missing values that need to be addressed.\n",
        "\n",
        "5.  **No Duplicates:** There are no duplicate rows in any of the three initial datasets, which simplifies the data cleaning process."
      ]
    },
    {
      "cell_type": "markdown",
      "metadata": {
        "id": "nA9Y7ga8ng1Z"
      },
      "source": [
        "## ***2. Understanding Your Variables***"
      ]
    },
    {
      "cell_type": "code",
      "execution_count": null,
      "metadata": {
        "id": "j7xfkqrt5Ag5"
      },
      "outputs": [],
      "source": [
        "# Dataset Columns\n",
        "print(\"Sales Columns:\", sales_df.columns.tolist())\n",
        "print(\"Features Columns:\", features_df.columns.tolist())\n",
        "print(\"Stores Columns:\", stores_df.columns.tolist())"
      ]
    },
    {
      "cell_type": "markdown",
      "metadata": {
        "id": "DnOaZdaE5Q5t"
      },
      "source": [
        "# Dataset Describe\n"
      ]
    },
    {
      "cell_type": "markdown",
      "metadata": {
        "id": "PBTbrJXOngz2"
      },
      "source": [
        "### Variables Description"
      ]
    },
    {
      "cell_type": "markdown",
      "metadata": {
        "id": "aJV4KIxSnxay"
      },
      "source": [
        "\n",
        "* **Store**: The unique ID number for the store.\n",
        "* **Dept**: The unique ID number for the department within a store.\n",
        "* **Date**: The week of the sales record.\n",
        "* **Weekly_Sales**: The total sales for the given department in the given store for that week. (This is our **target variable**).\n",
        "* **IsHoliday**: A boolean flag indicating whether the week contains a special holiday.\n",
        "* **Type**: The type of the store (A, B, or C).\n",
        "* **Size**: The physical size (e.g., square footage) of the store.\n",
        "* **Temperature**: The average temperature in the region for that week.\n",
        "* **Fuel_Price**: The cost of fuel in the region for that week.\n",
        "* **MarkDown1-5**: Anonymized data related to promotional markdowns offered by the store. A missing value likely indicates no markdown was applied.\n",
        "* **CPI**: The Consumer Price Index for the region.\n",
        "* **Unemployment**: The unemployment rate in the region."
      ]
    },
    {
      "cell_type": "markdown",
      "metadata": {
        "id": "u3PMJOP6ngxN"
      },
      "source": [
        "### Check Unique Values for each variable."
      ]
    },
    {
      "cell_type": "code",
      "execution_count": null,
      "metadata": {
        "id": "zms12Yq5n-jE"
      },
      "outputs": [],
      "source": [
        "# Check Unique Values for each variable.\n",
        "print(\"Unique values in Sales Data:\")\n",
        "for col in sales_df.columns:\n",
        "    print(f\"{col}: {sales_df[col].nunique()} unique values\")\n",
        "\n",
        "print(\"\\n\" + \"=\"*50 + \"\\n\")\n",
        "\n",
        "print(\"Unique values in Features Data:\")\n",
        "for col in features_df.columns:\n",
        "    print(f\"{col}: {features_df[col].nunique()} unique values\")\n",
        "\n",
        "print(\"\\n\" + \"=\"*50 + \"\\n\")\n",
        "\n",
        "print(\"Unique values in Stores Data:\")\n",
        "for col in stores_df.columns:\n",
        "    print(f\"{col}: {stores_df[col].nunique()} unique values\")"
      ]
    },
    {
      "cell_type": "markdown",
      "metadata": {
        "id": "dauF4eBmngu3"
      },
      "source": [
        "## 3. ***Data Wrangling***"
      ]
    },
    {
      "cell_type": "markdown",
      "metadata": {
        "id": "bKJF3rekwFvQ"
      },
      "source": [
        "### Data Wrangling Code"
      ]
    },
    {
      "cell_type": "code",
      "execution_count": null,
      "metadata": {
        "id": "wk-9a2fpoLcV"
      },
      "outputs": [],
      "source": [
        "# Write your code to make your dataset analysis ready.\n",
        "\n",
        "# Step 1: Merge the datasets\n",
        "# Merge sales and stores on 'Store'\n",
        "df = pd.merge(sales_df, stores_df, on='Store', how='left')\n",
        "\n",
        "# The features dataset has a different number of rows, so we merge carefully\n",
        "# on the common keys: 'Store', 'Date', and 'IsHoliday'\n",
        "df = pd.merge(df, features_df, on=['Store', 'Date', 'IsHoliday'], how='left')\n",
        "\n",
        "print(\"Shape of merged dataframe:\", df.shape)\n",
        "\n",
        "# Step 2: Handle Data Types\n",
        "# Convert 'Date' to datetime objects\n",
        "df['Date'] = pd.to_datetime(df['Date'], format='%d/%m/%Y')\n",
        "\n",
        "# Convert 'IsHoliday' from boolean to integer\n",
        "df['IsHoliday'] = df['IsHoliday'].astype(int)\n",
        "\n",
        "# Step 3: Handle Missing Values\n",
        "# Fill missing markdown values with 0, as NA implies no markdown\n",
        "markdown_cols = ['MarkDown1', 'MarkDown2', 'MarkDown3', 'MarkDown4', 'MarkDown5']\n",
        "for col in markdown_cols:\n",
        "    df[col] = df[col].fillna(0)\n",
        "\n",
        "# For CPI and Unemployment, a forward fill is a reasonable strategy\n",
        "# as these values don't change drastically week-to-week\n",
        "df['CPI'] = df['CPI'].fillna(method='ffill')\n",
        "df['Unemployment'] = df['Unemployment'].fillna(method='ffill')\n",
        "\n",
        "# Verify that there are no more missing values\n",
        "print(\"\\nMissing values after cleaning:\")\n",
        "print(df.isnull().sum().sum())\n",
        "\n",
        "# Display the first few rows of the cleaned, merged dataframe\n",
        "print(\"\\nCleaned Data Head:\")\n",
        "print(df.head())"
      ]
    },
    {
      "cell_type": "markdown",
      "metadata": {
        "id": "MSa1f5Uengrz"
      },
      "source": [
        "### What all manipulations have you done and insights you found?"
      ]
    },
    {
      "cell_type": "markdown",
      "metadata": {
        "id": "LbyXE7I1olp8"
      },
      "source": [
        "I performed the following data manipulations to prepare the dataset for analysis and modeling:\n",
        "\n",
        "1.  **Merging Datasets:**\n",
        "    * **Action:** I merged the three separate CSV files (`sales`, `stores`, `features`) into a single pandas DataFrame.\n",
        "    * **Why:** To create a unified view of the data where each row contains all the relevant information (sales, store details, and external features) for a specific transaction. This is essential for both EDA and for training a machine learning model, as the model needs all features in a single structure. The merges were performed using a `left` join to ensure all sales records were kept.\n",
        "\n",
        "2.  **Data Type Conversion:**\n",
        "    * **Action:** The `Date` column was converted from an `object` (string) type to a `datetime` object. The `IsHoliday` column was converted from `boolean` to `integer` (0 or 1).\n",
        "    * **Why:** Converting `Date` to a datetime object is crucial for performing time-based operations, such as extracting the month, year, or week, which are vital for feature engineering. Converting `IsHoliday` to a numerical format makes it directly usable by machine learning algorithms.\n",
        "\n",
        "3.  **Handling Missing Values:**\n",
        "    * **Action:**\n",
        "        * The missing values in the five `MarkDown` columns were filled with `0`.\n",
        "        * The few missing values in `CPI` and `Unemployment` were filled using a forward-fill (`ffill`) method.\n",
        "    * **Why:**\n",
        "        * A missing `MarkDown` value strongly implies that no promotion of that type was active during that week. Therefore, filling with `0` is the most logical and contextually appropriate imputation.\n",
        "        * `CPI` and `Unemployment` are economic indicators that typically don't fluctuate wildly from one week to the next. Forward-filling propagates the last known valid observation forward, which is a reasonable assumption for this type of time-series data and avoids data loss from dropping rows.\n",
        "\n",
        "After these manipulations, the dataset is clean, unified, and has the correct data types, making it ready for the next stages of exploratory analysis and feature engineering."
      ]
    },
    {
      "cell_type": "markdown",
      "metadata": {
        "id": "GF8Ens_Soomf"
      },
      "source": [
        "## ***4. Data Vizualization, Storytelling & Experimenting with charts : Understand the relationships between variables***"
      ]
    },
    {
      "cell_type": "markdown",
      "metadata": {
        "id": "0wOQAZs5pc--"
      },
      "source": [
        "#### Chart - 1"
      ]
    },
    {
      "cell_type": "code",
      "execution_count": null,
      "metadata": {
        "id": "7v_ESjsspbW7"
      },
      "outputs": [],
      "source": [
        "# Chart - 1 visualization code\n",
        "plt.figure(figsize=(12, 6))\n",
        "sns.distplot(df['Weekly_Sales'], bins=50, kde=True)\n",
        "plt.title('Distribution of Weekly Sales')\n",
        "plt.xlabel('Weekly Sales')\n",
        "plt.ylabel('Density')\n",
        "plt.show()"
      ]
    },
    {
      "cell_type": "markdown",
      "metadata": {
        "id": "K5QZ13OEpz2H"
      },
      "source": [
        "##### 1. Why did you pick the specific chart?"
      ]
    },
    {
      "cell_type": "markdown",
      "metadata": {
        "id": "XESiWehPqBRc"
      },
      "source": [
        "I chose a **distplot (histogram with a Kernel Density Estimate)** to visualize the distribution of the `Weekly_Sales` target variable. This chart is ideal for understanding the central tendency, spread, and shape of a continuous variable. It clearly shows where the majority of sales values are concentrated, and it helps to identify any skewness or potential outliers in the data. This is a fundamental first step in any regression problem to understand the nature of the target we are trying to predict."
      ]
    },
    {
      "cell_type": "markdown",
      "metadata": {
        "id": "lQ7QKXXCp7Bj"
      },
      "source": [
        "##### 2. What is/are the insight(s) found from the chart?"
      ]
    },
    {
      "cell_type": "markdown",
      "metadata": {
        "id": "C_j1G7yiqdRP"
      },
      "source": [
        "The distribution of `Weekly_Sales` is:\n",
        "* **Highly Right-Skewed:** The vast majority of weekly sales figures are concentrated on the lower end, specifically between \\$0 and \\$50,000.\n",
        "* **Long Tail:** There is a long tail extending to the right, indicating that there are occasional instances of very high weekly sales, which could be considered outliers.\n",
        "* **Presence of Negative Sales:** The chart shows a small bar below zero, indicating the presence of negative `Weekly_Sales` values. This is unusual and likely represents customer returns or data entry errors that should be investigated or handled."
      ]
    },
    {
      "cell_type": "markdown",
      "metadata": {
        "id": "448CDAPjqfQr"
      },
      "source": [
        "##### 3. Will the gained insights help creating a positive business impact?\n",
        "Are there any insights that lead to negative growth? Justify with specific reason."
      ]
    },
    {
      "cell_type": "markdown",
      "metadata": {
        "id": "3cspy4FjqxJW"
      },
      "source": [
        "**Positive Business Impact:**\n",
        "\n",
        "* Yes, understanding the distribution of sales is fundamental. The insight that most sales are concentrated at the lower end helps in setting realistic baseline forecasts for a typical week. Knowing that high sales are rare (outliers) allows the business to treat them as special events (like major holidays) that require specific planning, rather than as a normal occurrence. This prevents overstocking during regular weeks, which saves on inventory costs.\n",
        "\n",
        "**Insights Leading to Negative Growth:**\n",
        "\n",
        "* Yes, the presence of **negative `Weekly_Sales` values** is an insight that points to a problem. These values represent weeks where returns exceeded sales in a department. This is a direct loss of revenue and indicates potential issues with product quality, customer dissatisfaction, or even fraudulent return activity. If not addressed, the root causes of these negative sales could lead to declining customer loyalty and negative growth for those specific departments. The business must investigate these instances immediately."
      ]
    },
    {
      "cell_type": "markdown",
      "metadata": {
        "id": "KSlN3yHqYklG"
      },
      "source": [
        "#### Chart - 2"
      ]
    },
    {
      "cell_type": "code",
      "execution_count": null,
      "metadata": {
        "id": "R4YgtaqtYklH"
      },
      "outputs": [],
      "source": [
        "# Chart - 2 visualization code\n",
        "# Aggregate sales by date\n",
        "daily_sales = df.groupby('Date')['Weekly_Sales'].sum().reset_index()\n",
        "\n",
        "plt.figure(figsize=(18, 7))\n",
        "sns.lineplot(x='Date', y='Weekly_Sales', data=daily_sales)\n",
        "plt.title('Total Weekly Sales Over Time', fontsize=16)\n",
        "plt.xlabel('Date', fontsize=12)\n",
        "plt.ylabel('Total Weekly Sales (in millions)', fontsize=12)\n",
        "plt.show()"
      ]
    },
    {
      "cell_type": "markdown",
      "metadata": {
        "id": "t6dVpIINYklI"
      },
      "source": [
        "##### 1. Why did you pick the specific chart?"
      ]
    },
    {
      "cell_type": "markdown",
      "metadata": {
        "id": "5aaW0BYyYklI"
      },
      "source": [
        "A **line chart** is the most effective way to visualize time-series data, as it clearly shows trends, seasonality, and patterns over a continuous interval. By plotting the total `Weekly_Sales` against `Date`, we can easily observe how sales fluctuate over the years and identify recurring patterns, such as holiday peaks or seasonal dips."
      ]
    },
    {
      "cell_type": "markdown",
      "metadata": {
        "id": "ijmpgYnKYklI"
      },
      "source": [
        "##### 2. What is/are the insight(s) found from the chart?"
      ]
    },
    {
      "cell_type": "markdown",
      "metadata": {
        "id": "PSx9atu2YklI"
      },
      "source": [
        "The line chart reveals several key insights:\n",
        "\n",
        "* **Strong Seasonality:** There is a clear and repeating pattern of sales spikes at the end of each year, corresponding to the holiday season (Thanksgiving and Christmas), which are the highest sales periods.\n",
        "* **Minor Peaks:** There are other smaller, recurring peaks throughout the year, possibly related to other holidays like Easter or back-to-school seasons.\n",
        "* **Overall Trend:** Apart from the seasonal fluctuations, the overall sales trend appears to be relatively stable across the years shown in the data."
      ]
    },
    {
      "cell_type": "markdown",
      "metadata": {
        "id": "-JiQyfWJYklI"
      },
      "source": [
        "##### 3. Will the gained insights help creating a positive business impact?\n",
        "Are there any insights that lead to negative growth? Justify with specific reason."
      ]
    },
    {
      "cell_type": "markdown",
      "metadata": {
        "id": "BcBbebzrYklV"
      },
      "source": [
        "**Positive Business Impact:**\n",
        "\n",
        "* Absolutely. The insight into **strong seasonality** is one of the most actionable findings for the business.\n",
        "    * **Inventory & Staffing:** The company can proactively increase inventory and schedule more staff in the weeks leading up to the major end-of-year sales peak to maximize revenue and ensure a good customer experience.\n",
        "    * **Marketing:** Marketing campaigns can be timed to coincide with these predictable peaks to further boost sales.\n",
        "    * **Cash Flow Management:** The business can anticipate periods of high revenue and plan financial operations accordingly.\n",
        "\n",
        "**Insights Leading to Negative Growth:**\n",
        "\n",
        "* The chart itself doesn't explicitly show negative growth, but it highlights a **risk**. The heavy reliance on the end-of-year holiday season for a significant portion of revenue is a vulnerability. Any external event that disrupts this peak season (e.g., a supply chain crisis, an economic downturn affecting holiday spending) could have a disproportionately negative impact on the entire year's profitability. A business strategy to boost sales during the observed \"troughs\" or off-peak seasons would mitigate this risk and create more stable year-round growth."
      ]
    },
    {
      "cell_type": "markdown",
      "metadata": {
        "id": "EM7whBJCYoAo"
      },
      "source": [
        "#### Chart - 3"
      ]
    },
    {
      "cell_type": "code",
      "execution_count": null,
      "metadata": {
        "id": "t6GMdE67YoAp"
      },
      "outputs": [],
      "source": [
        "# Chart - 3 visualization code\n",
        "# Sales by Store Type\n",
        "plt.figure(figsize=(12, 7))\n",
        "# Using showfliers=False to ignore outliers for a cleaner plot of the distribution\n",
        "sns.boxplot(x='Type', y='Weekly_Sales', data=df, showfliers=False)\n",
        "plt.title('Weekly Sales Distribution by Store Type', fontsize=16)\n",
        "plt.xlabel('Store Type', fontsize=12)\n",
        "plt.ylabel('Weekly Sales', fontsize=12)\n",
        "plt.show()"
      ]
    },
    {
      "cell_type": "markdown",
      "metadata": {
        "id": "fge-S5ZAYoAp"
      },
      "source": [
        "##### 1. Why did you pick the specific chart?"
      ]
    },
    {
      "cell_type": "markdown",
      "metadata": {
        "id": "5dBItgRVYoAp"
      },
      "source": [
        "A **boxplot** is an excellent choice for comparing the distribution of a continuous variable (`Weekly_Sales`) across different categories (`Type`). It provides a concise summary of the data, showing the median, quartiles, and range for each store type, making it easy to compare their sales performance side-by-side. I removed the outliers (`showfliers=False`) to get a clearer view of the central distribution for each type."
      ]
    },
    {
      "cell_type": "markdown",
      "metadata": {
        "id": "85gYPyotYoAp"
      },
      "source": [
        "##### 2. What is/are the insight(s) found from the chart?"
      ]
    },
    {
      "cell_type": "markdown",
      "metadata": {
        "id": "4jstXR6OYoAp"
      },
      "source": [
        "The boxplot clearly shows a hierarchy in sales performance based on store type:\n",
        "\n",
        "* **Type A stores have the highest sales:** The median and overall distribution of weekly sales for Type A stores are significantly higher than for Types B and C.\n",
        "* **Type B stores are in the middle:** Their sales are consistently lower than Type A but higher than Type C.\n",
        "* **Type C stores have the lowest sales:** Their sales distribution is much more compressed and centered at a lower value.\n",
        "\n",
        "This confirms that `Type` is a very strong indicator of a store's sales volume."
      ]
    },
    {
      "cell_type": "markdown",
      "metadata": {
        "id": "RoGjAbkUYoAp"
      },
      "source": [
        "##### 3. Will the gained insights help creating a positive business impact?\n",
        "Are there any insights that lead to negative growth? Justify with specific reason."
      ]
    },
    {
      "cell_type": "markdown",
      "metadata": {
        "id": "zfJ8IqMcYoAp"
      },
      "source": [
        "**Positive Business Impact:**\n",
        "\n",
        "* Yes, this insight is crucial for strategic planning.\n",
        "    * **Resource Allocation:** The company can justify allocating a larger budget for inventory, staffing, and marketing to Type A stores, as they generate the most revenue and have the highest potential return on investment.\n",
        "    * **Growth Strategy:** The business can analyze what makes Type A stores so successful (e.g., location, product mix, store layout) and try to replicate those factors in Type B and C stores to improve their performance.\n",
        "    * **Real Estate Decisions:** When planning new store openings, the company can prioritize models based on the successful Type A format.\n",
        "\n",
        "**Insights Leading to Negative Growth:**\n",
        "\n",
        "* This insight doesn't directly point to negative growth, but it highlights **inefficiency and underperformance**. The significantly lower sales in Type C stores could represent a drag on overall profitability. If the operational costs of a Type C store are not proportionally lower than its sales, it could be operating at a loss. A specific analysis of the profitability (not just sales) of Type C stores is necessary. If they are unprofitable, they could be candidates for closure, rebranding, or strategic overhaul to prevent them from negatively impacting the company's bottom line."
      ]
    },
    {
      "cell_type": "markdown",
      "metadata": {
        "id": "4Of9eVA-YrdM"
      },
      "source": [
        "#### Chart - 4"
      ]
    },
    {
      "cell_type": "code",
      "execution_count": null,
      "metadata": {
        "id": "irlUoxc8YrdO"
      },
      "outputs": [],
      "source": [
        "# Chart - 4 visualization code\n",
        "# Sales vs. IsHoliday\n",
        "plt.figure(figsize=(10, 6))\n",
        "sns.barplot(x='IsHoliday', y='Weekly_Sales', data=df)\n",
        "plt.title('Average Weekly Sales on Holidays vs. Non-Holidays', fontsize=16)\n",
        "plt.xlabel('Is Holiday Week', fontsize=12)\n",
        "plt.ylabel('Average Weekly Sales', fontsize=12)\n",
        "plt.xticks([0, 1], ['Non-Holiday', 'Holiday'])\n",
        "plt.show()"
      ]
    },
    {
      "cell_type": "markdown",
      "metadata": {
        "id": "iky9q4vBYrdO"
      },
      "source": [
        "##### 1. Why did you pick the specific chart?"
      ]
    },
    {
      "cell_type": "markdown",
      "metadata": {
        "id": "aJRCwT6DYrdO"
      },
      "source": [
        "A **bar chart** is perfect for comparing the average value of a continuous variable (`Weekly_Sales`) between two distinct categories (`IsHoliday`: True/False). It provides a simple and direct visual comparison of the central tendency (in this case, the mean) for each group."
      ]
    },
    {
      "cell_type": "markdown",
      "metadata": {
        "id": "F6T5p64dYrdO"
      },
      "source": [
        "##### 2. What is/are the insight(s) found from the chart?"
      ]
    },
    {
      "cell_type": "markdown",
      "metadata": {
        "id": "Xx8WAJvtYrdO"
      },
      "source": [
        "The chart shows that, on average, `Weekly_Sales` are slightly higher during holiday weeks compared to non-holiday weeks. This confirms the intuition that holidays are an important driver of sales, although the time-series plot showed that the major year-end holidays have a much more dramatic impact than the average holiday week."
      ]
    },
    {
      "cell_type": "markdown",
      "metadata": {
        "id": "y-Ehk30pYrdP"
      },
      "source": [
        "##### 3. Will the gained insights help creating a positive business impact?\n",
        "Are there any insights that lead to negative growth? Justify with specific reason."
      ]
    },
    {
      "cell_type": "markdown",
      "metadata": {
        "id": "jLNxxz7MYrdP"
      },
      "source": [
        "**Positive Business Impact:**\n",
        "\n",
        "* Yes. This chart confirms that holiday weeks, in general, are a reliable source of increased sales. This allows the business to plan for smaller-scale promotions and inventory boosts around all official holidays, not just the major ones at the end of the year. This creates more frequent opportunities to drive incremental revenue throughout the year.\n",
        "\n",
        "**Insights Leading to Negative Growth:**\n",
        "\n",
        "* There are no direct insights that lead to negative growth from this chart. However, it could create a **misleading sense of opportunity**. While average sales are higher, the cost of operating during a holiday can also be higher (e.g., paying staff holiday wages). Furthermore, if the wrong products are promoted, a holiday campaign could fail, leading to wasted marketing spend and excess inventory of unsold goods, which would negatively impact profitability for that period. The insight is positive, but the execution carries risk."
      ]
    },
    {
      "cell_type": "markdown",
      "metadata": {
        "id": "bamQiAODYuh1"
      },
      "source": [
        "#### Chart - 5"
      ]
    },
    {
      "cell_type": "code",
      "execution_count": null,
      "metadata": {
        "id": "TIJwrbroYuh3"
      },
      "outputs": [],
      "source": [
        "# Chart - 5 visualization code\n",
        "# Let's visualize the performance of different departments.\n",
        "# Since there are many departments, we'll focus on the top 20 by average sales.\n",
        "\n",
        "# Calculate average sales per department\n",
        "avg_sales_per_dept = df.groupby('Dept')['Weekly_Sales'].mean().sort_values(ascending=False)\n",
        "\n",
        "# Create the bar plot for the top 20 departments\n",
        "plt.figure(figsize=(16, 8))\n",
        "sns.barplot(x=avg_sales_per_dept.head(20).index, y=avg_sales_per_dept.head(20).values, palette='coolwarm', order=avg_sales_per_dept.head(20).index)\n",
        "plt.title('Top 20 Departments by Average Weekly Sales', fontsize=16)\n",
        "plt.xlabel('Department ID', fontsize=12)\n",
        "plt.ylabel('Average Weekly Sales', fontsize=12)\n",
        "plt.xticks(rotation=45)\n",
        "plt.show()"
      ]
    },
    {
      "cell_type": "markdown",
      "metadata": {
        "id": "QHF8YVU7Yuh3"
      },
      "source": [
        "##### 1. Why did you pick the specific chart?"
      ]
    },
    {
      "cell_type": "markdown",
      "metadata": {
        "id": "dcxuIMRPYuh3"
      },
      "source": [
        "A **bar chart** is the most effective way to compare a numerical value (average weekly sales) across different categories (department IDs). With over 80 unique departments, plotting all of them would be unreadable. By focusing on the **Top 20** performing departments, we can clearly and concisely identify which product areas are the most significant contributors to the company's revenue."
      ]
    },
    {
      "cell_type": "markdown",
      "metadata": {
        "id": "GwzvFGzlYuh3"
      },
      "source": [
        "##### 2. What is/are the insight(s) found from the chart?"
      ]
    },
    {
      "cell_type": "markdown",
      "metadata": {
        "id": "uyqkiB8YYuh3"
      },
      "source": [
        "The chart reveals a clear hierarchy of department performance.\n",
        "* **Dominant Departments:** A few departments, such as 92, 95, 38, and 72, are exceptionally high-performing, with average weekly sales significantly higher than the rest. These are likely major categories like electronics, sporting goods, or seasonal departments.\n",
        "* **Steep Drop-off:** There is a steep decline in average sales after the top few departments, but performance remains strong for the rest of the top 20.\n",
        "* **High Value Categories:** This insight immediately tells the business which product categories are its primary revenue drivers."
      ]
    },
    {
      "cell_type": "markdown",
      "metadata": {
        "id": "qYpmQ266Yuh3"
      },
      "source": [
        "##### 3. Will the gained insights help creating a positive business impact?\n",
        "Are there any insights that lead to negative growth? Justify with specific reason."
      ]
    },
    {
      "cell_type": "markdown",
      "metadata": {
        "id": "_WtzZ_hCYuh4"
      },
      "source": [
        "**Positive Business Impact:**\n",
        "* Absolutely. This is one of the most actionable insights for the business.\n",
        "    * **Inventory and Space Allocation:** The company can prioritize inventory and allocate more floor space to these top-performing departments to maximize their sales potential.\n",
        "    * **Marketing Focus:** Marketing efforts can be concentrated on promoting products from these key departments, knowing they have the highest customer demand.\n",
        "    * **Staffing and Expertise:** The business can ensure that these high-value departments are staffed with the most knowledgeable employees to drive sales and improve customer satisfaction.\n",
        "\n",
        "**Insights Leading to Negative Growth:**\n",
        "* This insight highlights a potential risk of **over-reliance**. If a huge portion of the company's revenue comes from just a handful of departments (e.g., Dept 92 and 95), any market shift, new competitor, or supply chain disruption affecting those specific product categories could have a catastrophic impact on the entire business. This dependency is a significant vulnerability. A strategy to grow and diversify sales in the mid-tier departments would be crucial for long-term, stable growth and to mitigate this risk."
      ]
    },
    {
      "cell_type": "markdown",
      "metadata": {
        "id": "OH-pJp9IphqM"
      },
      "source": [
        "#### Chart - 6"
      ]
    },
    {
      "cell_type": "code",
      "execution_count": null,
      "metadata": {
        "id": "kuRf4wtuphqN"
      },
      "outputs": [],
      "source": [
        "# Chart - 6 visualization code\n",
        "plt.figure(figsize=(14, 8))\n",
        "sns.scatterplot(x='Size', y='Weekly_Sales', data=df, alpha=0.3)\n",
        "plt.title('Weekly Sales vs. Store Size', fontsize=16)\n",
        "plt.xlabel('Store Size', fontsize=12)\n",
        "plt.ylabel('Weekly Sales', fontsize=12)\n",
        "plt.show()"
      ]
    },
    {
      "cell_type": "markdown",
      "metadata": {
        "id": "bbFf2-_FphqN"
      },
      "source": [
        "##### 1. Why did you pick the specific chart?"
      ]
    },
    {
      "cell_type": "markdown",
      "metadata": {
        "id": "loh7H2nzphqN"
      },
      "source": [
        "A **scatterplot** is the ideal choice to visualize the relationship between two continuous variables, in this case, `Weekly_Sales` and `Size`. While the correlation matrix gave us a single number (0.24) to represent this relationship, the scatterplot allows us to see the pattern, spread, and presence of any non-linear trends or outliers visually."
      ]
    },
    {
      "cell_type": "markdown",
      "metadata": {
        "id": "_ouA3fa0phqN"
      },
      "source": [
        "##### 2. What is/are the insight(s) found from the chart?"
      ]
    },
    {
      "cell_type": "markdown",
      "metadata": {
        "id": "VECbqPI7phqN"
      },
      "source": [
        "The scatterplot confirms the positive correlation found earlier.\n",
        "* **Positive Trend:** As the `Size` of the store increases, the `Weekly_Sales` also tend to increase.\n",
        "* **Clear Tiers:** The data points seem to form distinct vertical bands, which correspond to the fixed sizes of each store.\n",
        "* **Increased Variance:** The spread of `Weekly_Sales` (variance) becomes much larger for bigger stores. This means that while larger stores have higher average sales, their sales are also more variable and less predictable than smaller stores."
      ]
    },
    {
      "cell_type": "markdown",
      "metadata": {
        "id": "Seke61FWphqN"
      },
      "source": [
        "##### 3. Will the gained insights help creating a positive business impact?\n",
        "Are there any insights that lead to negative growth? Justify with specific reason."
      ]
    },
    {
      "cell_type": "markdown",
      "metadata": {
        "id": "DW4_bGpfphqN"
      },
      "source": [
        "**Positive Business Impact:**\n",
        "* Yes. This visualization strongly supports a strategy of investing in larger-format stores for new openings, as they have a demonstrably higher sales ceiling. It provides clear evidence to support real estate and expansion decisions aimed at maximizing revenue.\n",
        "\n",
        "**Insights Leading to Negative Growth:**\n",
        "* The insight about **increased sales variance in larger stores** points to a significant business risk. This volatility means that large stores are more susceptible to large swings in sales, making them harder to manage. A single bad week in a large store could have a major negative impact on regional profitability. This could lead to negative growth if not managed properly through sophisticated inventory and staffing models that can adapt to this high variability, otherwise, it could lead to significant losses from either stockouts or overstocking."
      ]
    },
    {
      "cell_type": "markdown",
      "metadata": {
        "id": "PIIx-8_IphqN"
      },
      "source": [
        "#### Chart - 7"
      ]
    },
    {
      "cell_type": "code",
      "execution_count": null,
      "metadata": {
        "id": "lqAIGUfyphqO"
      },
      "outputs": [],
      "source": [
        "# Chart - 7 visualization code\n",
        "# We need to create the 'Month' feature first if it's not already there\n",
        "if 'Month' not in df.columns:\n",
        "    df['Month'] = df['Date'].dt.month\n",
        "\n",
        "plt.figure(figsize=(14, 8))\n",
        "sns.barplot(x='Month', y='Weekly_Sales', data=df, palette='rocket')\n",
        "plt.title('Average Weekly Sales by Month', fontsize=16)\n",
        "plt.xlabel('Month', fontsize=12)\n",
        "plt.ylabel('Average Weekly Sales', fontsize=12)\n",
        "plt.show()"
      ]
    },
    {
      "cell_type": "markdown",
      "metadata": {
        "id": "t27r6nlMphqO"
      },
      "source": [
        "##### 1. Why did you pick the specific chart?"
      ]
    },
    {
      "cell_type": "markdown",
      "metadata": {
        "id": "iv6ro40sphqO"
      },
      "source": [
        "A **bar chart** is an effective way to compare the average `Weekly_Sales` across the 12 months. It clearly shows the seasonal performance, making it easy to identify which months are high-performing and which are low-performing from an aggregated perspective."
      ]
    },
    {
      "cell_type": "markdown",
      "metadata": {
        "id": "r2jJGEOYphqO"
      },
      "source": [
        "##### 2. What is/are the insight(s) found from the chart?"
      ]
    },
    {
      "cell_type": "markdown",
      "metadata": {
        "id": "Po6ZPi4hphqO"
      },
      "source": [
        "The chart clearly illustrates the monthly sales patterns:\n",
        "* **Major Peak in December:** December has the highest average weekly sales, driven by the Christmas holiday season. November also shows a significant ramp-up.\n",
        "* **Post-Holiday Slump:** January and February show a noticeable dip in sales, which is a common post-holiday trend.\n",
        "* **Minor Peaks:** There are other smaller peaks around April-May and July-August, possibly corresponding to Easter and back-to-school seasons, respectively."
      ]
    },
    {
      "cell_type": "markdown",
      "metadata": {
        "id": "b0JNsNcRphqO"
      },
      "source": [
        "##### 3. Will the gained insights help creating a positive business impact?\n",
        "Are there any insights that lead to negative growth? Justify with specific reason."
      ]
    },
    {
      "cell_type": "markdown",
      "metadata": {
        "id": "xvSq8iUTphqO"
      },
      "source": [
        "**Positive Business Impact:**\n",
        "* Absolutely. This monthly view provides a clear roadmap for the entire year's marketing and inventory planning. The business can plan major campaigns for November-December, moderate ones for the smaller peak seasons, and cost-saving or clearance events during the slump months of January-February to clear out old stock and attract customers. This proactive planning improves efficiency and maximizes revenue throughout the year.\n",
        "\n",
        "**Insights Leading to Negative Growth:**\n",
        "* The **post-holiday slump in January-February** is an insight that, if ignored, can lead to negative growth. If the business continues to stock inventory and staff at levels used in December, they will incur massive operational losses due to low sales. This period represents a direct threat to profitability. The business must have a clear strategy to downsize operations temporarily or run aggressive clearance sales to mitigate the financial damage during these low-performing months."
      ]
    },
    {
      "cell_type": "markdown",
      "metadata": {
        "id": "BZR9WyysphqO"
      },
      "source": [
        "#### Chart - 8"
      ]
    },
    {
      "cell_type": "code",
      "execution_count": null,
      "metadata": {
        "id": "TdPTWpAVphqO"
      },
      "outputs": [],
      "source": [
        "# Chart - 8 visualization code\n",
        "plt.figure(figsize=(14, 8))\n",
        "sns.scatterplot(x='CPI', y='Weekly_Sales', data=df, alpha=0.1)\n",
        "plt.title('Weekly Sales vs. Consumer Price Index (CPI)', fontsize=16)\n",
        "plt.xlabel('CPI', fontsize=12)\n",
        "plt.ylabel('Weekly Sales', fontsize=12)\n",
        "plt.show()"
      ]
    },
    {
      "cell_type": "markdown",
      "metadata": {
        "id": "jj7wYXLtphqO"
      },
      "source": [
        "##### 1. Why did you pick the specific chart?"
      ]
    },
    {
      "cell_type": "markdown",
      "metadata": {
        "id": "Ob8u6rCTphqO"
      },
      "source": [
        "A **scatterplot** is the appropriate choice to investigate the relationship between the economic indicator `CPI` and `Weekly_Sales`. While the correlation matrix showed a very weak linear relationship, a scatterplot can help us visually confirm if there are any non-linear patterns or clusters that the single correlation value might have missed."
      ]
    },
    {
      "cell_type": "markdown",
      "metadata": {
        "id": "eZrbJ2SmphqO"
      },
      "source": [
        "##### 2. What is/are the insight(s) found from the chart?"
      ]
    },
    {
      "cell_type": "markdown",
      "metadata": {
        "id": "mZtgC_hjphqO"
      },
      "source": [
        "The scatterplot shows no clear or strong relationship between CPI and Weekly Sales.\n",
        "* The data points are spread widely across the entire range of CPI values.\n",
        "* There does not appear to be a distinct positive or negative trend.\n",
        "* Sales can be high or low regardless of whether the CPI is low (around 130) or high (around 220). This confirms that CPI is not a primary driver of sales on its own."
      ]
    },
    {
      "cell_type": "markdown",
      "metadata": {
        "id": "rFu4xreNphqO"
      },
      "source": [
        "##### 3. Will the gained insights help creating a positive business impact?\n",
        "Are there any insights that lead to negative growth? Justify with specific reason."
      ]
    },
    {
      "cell_type": "markdown",
      "metadata": {
        "id": "ey_0qi68phqO"
      },
      "source": [
        "**Positive Business Impact:**\n",
        "* Yes, even a \"no relationship\" insight is valuable. This tells the business that they should not be overly concerned with minor fluctuations in the national CPI for their operational forecasting. It allows them to focus their analytical efforts and strategic resources on factors they can actually control or that have a stronger, more direct impact on sales (like seasonality, store size, and promotions). This prevents \"analysis paralysis\" and wasted effort on weak signals.\n",
        "\n",
        "**Insights Leading to Negative Growth:**\n",
        "* There are no insights from this chart that directly lead to negative growth. The lack of a relationship simply means this feature is not a strong predictor. The risk would be in *ignoring* this finding and making poor business decisions based on the false assumption that CPI is a key driver, which could lead to misallocated resources."
      ]
    },
    {
      "cell_type": "markdown",
      "metadata": {
        "id": "YJ55k-q6phqO"
      },
      "source": [
        "#### Chart - 9"
      ]
    },
    {
      "cell_type": "code",
      "execution_count": null,
      "metadata": {
        "id": "B2aS4O1ophqO"
      },
      "outputs": [],
      "source": [
        "# Chart - 9 visualization code\n",
        "plt.figure(figsize=(14, 8))\n",
        "sns.scatterplot(x='Unemployment', y='Weekly_Sales', data=df, alpha=0.1)\n",
        "plt.title('Weekly Sales vs. Unemployment Rate', fontsize=16)\n",
        "plt.xlabel('Unemployment Rate', fontsize=12)\n",
        "plt.ylabel('Weekly Sales', fontsize=12)\n",
        "plt.show()"
      ]
    },
    {
      "cell_type": "markdown",
      "metadata": {
        "id": "gCFgpxoyphqP"
      },
      "source": [
        "##### 1. Why did you pick the specific chart?"
      ]
    },
    {
      "cell_type": "markdown",
      "metadata": {
        "id": "TVxDimi2phqP"
      },
      "source": [
        "Similar to the analysis for CPI, a **scatterplot** is the best tool to visually inspect the relationship between `Weekly_Sales` and the `Unemployment` rate. It allows us to verify the weak correlation found in the heatmap and check for any non-linear patterns that a single correlation coefficient might miss."
      ]
    },
    {
      "cell_type": "markdown",
      "metadata": {
        "id": "OVtJsKN_phqQ"
      },
      "source": [
        "##### 2. What is/are the insight(s) found from the chart?"
      ]
    },
    {
      "cell_type": "markdown",
      "metadata": {
        "id": "ngGi97qjphqQ"
      },
      "source": [
        "The scatterplot confirms that there is **no strong, clear relationship** between the unemployment rate and weekly sales.\n",
        "* The data points are widely dispersed, indicating that sales can be high or low across the full spectrum of unemployment rates present in the data.\n",
        "* There isn't a discernible upward or downward trend, suggesting that unemployment is not a primary direct driver of sales in this dataset."
      ]
    },
    {
      "cell_type": "markdown",
      "metadata": {
        "id": "lssrdh5qphqQ"
      },
      "source": [
        "##### 3. Will the gained insights help creating a positive business impact?\n",
        "Are there any insights that lead to negative growth? Justify with specific reason."
      ]
    },
    {
      "cell_type": "markdown",
      "metadata": {
        "id": "tBpY5ekJphqQ"
      },
      "source": [
        "**Positive Business Impact:**\n",
        "* Yes. This insight provides a degree of reassurance for the business. It suggests that their sales are relatively **resilient to fluctuations in the local unemployment rate**. This is a sign of a strong, stable customer base. This allows the company to maintain a consistent strategy for inventory and marketing without needing to make drastic, reactive changes based on monthly unemployment reports.\n",
        "\n",
        "**Insights Leading to Negative Growth:**\n",
        "* There are no direct insights here that point to negative growth. The primary risk would be if the company *incorrectly* assumed that a low unemployment rate would automatically lead to higher sales and therefore overstocked inventory in anticipation. This finding helps prevent such a misguided and potentially costly strategy."
      ]
    },
    {
      "cell_type": "markdown",
      "metadata": {
        "id": "U2RJ9gkRphqQ"
      },
      "source": [
        "#### Chart - 10"
      ]
    },
    {
      "cell_type": "code",
      "execution_count": null,
      "metadata": {
        "id": "GM7a4YP4phqQ"
      },
      "outputs": [],
      "source": [
        "# Chart - 10 visualization code\n",
        "plt.figure(figsize=(14, 8))\n",
        "sns.scatterplot(x='Fuel_Price', y='Weekly_Sales', data=df, alpha=0.1, color='orange')\n",
        "plt.title('Weekly Sales vs. Fuel Price', fontsize=16)\n",
        "plt.xlabel('Fuel Price', fontsize=12)\n",
        "plt.ylabel('Weekly Sales', fontsize=12)\n",
        "plt.show()"
      ]
    },
    {
      "cell_type": "markdown",
      "metadata": {
        "id": "1M8mcRywphqQ"
      },
      "source": [
        "##### 1. Why did you pick the specific chart?"
      ]
    },
    {
      "cell_type": "markdown",
      "metadata": {
        "id": "8agQvks0phqQ"
      },
      "source": [
        "Again, a **scatterplot** is the most suitable chart to explore the direct relationship between two continuous variables: `Fuel_Price` and `Weekly_Sales`. It allows for a visual assessment of the correlation, trend, and concentration of data points."
      ]
    },
    {
      "cell_type": "markdown",
      "metadata": {
        "id": "tgIPom80phqQ"
      },
      "source": [
        "##### 2. What is/are the insight(s) found from the chart?"
      ]
    },
    {
      "cell_type": "markdown",
      "metadata": {
        "id": "Qp13pnNzphqQ"
      },
      "source": [
        "Similar to CPI and Unemployment, the chart shows that `Fuel_Price` has **no strong, direct impact on `Weekly_Sales`**.\n",
        "* The sales figures remain distributed across the y-axis regardless of whether the fuel price is low (around \\$2.50) or high (over \\$4.00).\n",
        "* There is no discernible pattern, confirming that customers' purchasing habits in these stores are not significantly affected by the price of gas."
      ]
    },
    {
      "cell_type": "markdown",
      "metadata": {
        "id": "JMzcOPDDphqR"
      },
      "source": [
        "##### 3. Will the gained insights help creating a positive business impact?\n",
        "Are there any insights that lead to negative growth? Justify with specific reason."
      ]
    },
    {
      "cell_type": "markdown",
      "metadata": {
        "id": "R4Ka1PC2phqR"
      },
      "source": [
        "**Positive Business Impact:**\n",
        "* Yes. This is a positive insight for strategic stability. It indicates that the company's revenue is not highly vulnerable to the volatile energy market. They do not need to factor in gas prices as a major variable when setting their own prices or forecasting sales. This simplifies their business modeling and allows them to focus on more impactful, controllable factors like in-store promotions.\n",
        "\n",
        "**Insights Leading to Negative Growth:**\n",
        "* There are no insights from this chart that suggest a risk of negative growth. It reinforces that the business's health is largely independent of this specific external economic factor."
      ]
    },
    {
      "cell_type": "markdown",
      "metadata": {
        "id": "x-EpHcCOp1ci"
      },
      "source": [
        "#### Chart - 11"
      ]
    },
    {
      "cell_type": "code",
      "execution_count": null,
      "metadata": {
        "id": "mAQTIvtqp1cj"
      },
      "outputs": [],
      "source": [
        "# Chart - 11 visualization code\n",
        "# It's better to use a bar plot for this, but with 45 stores, it will be crowded.\n",
        "# Let's show the top 15 and bottom 15 stores instead for clarity.\n",
        "\n",
        "# Calculate average sales per store\n",
        "avg_sales_per_store = df.groupby('Store')['Weekly_Sales'].mean().sort_values(ascending=False)\n",
        "\n",
        "# Top 15 stores\n",
        "plt.figure(figsize=(15, 7))\n",
        "sns.barplot(x=avg_sales_per_store.head(15).index, y=avg_sales_per_store.head(15).values, palette='viridis')\n",
        "plt.title('Top 15 Stores by Average Weekly Sales', fontsize=16)\n",
        "plt.xlabel('Store ID', fontsize=12)\n",
        "plt.ylabel('Average Weekly Sales', fontsize=12)\n",
        "plt.show()\n",
        "\n",
        "# Bottom 15 stores\n",
        "plt.figure(figsize=(15, 7))\n",
        "sns.barplot(x=avg_sales_per_store.tail(15).index, y=avg_sales_per_store.tail(15).values, palette='plasma')\n",
        "plt.title('Bottom 15 Stores by Average Weekly Sales', fontsize=16)\n",
        "plt.xlabel('Store ID', fontsize=12)\n",
        "plt.ylabel('Average Weekly Sales', fontsize=12)\n",
        "plt.show()"
      ]
    },
    {
      "cell_type": "markdown",
      "metadata": {
        "id": "X_VqEhTip1ck"
      },
      "source": [
        "##### 1. Why did you pick the specific chart?"
      ]
    },
    {
      "cell_type": "markdown",
      "metadata": {
        "id": "-vsMzt_np1ck"
      },
      "source": [
        "A **bar chart** is the best way to compare a value (average weekly sales) across multiple distinct categories (the individual stores). Since plotting all 45 stores would be visually cluttered, I created two separate charts: one for the **Top 15** and one for the **Bottom 15** performing stores. This provides a much clearer and more actionable view of both the high-achievers and the underperformers."
      ]
    },
    {
      "cell_type": "markdown",
      "metadata": {
        "id": "8zGJKyg5p1ck"
      },
      "source": [
        "##### 2. What is/are the insight(s) found from the chart?"
      ]
    },
    {
      "cell_type": "markdown",
      "metadata": {
        "id": "ZYdMsrqVp1ck"
      },
      "source": [
        "The charts reveal a vast disparity in performance across stores.\n",
        "* **High-Performers:** A handful of stores (e.g., 20, 4, 14, 13) are powerhouses, with average weekly sales far exceeding the others, often averaging over \\$25,000.\n",
        "* **Underperformers:** Conversely, a group of stores (e.g., 33, 44, 5, 36) consistently underperform, with average sales below \\$5,000.\n",
        "* **Performance Gap:** The gap between the top and bottom stores is enormous. The best-performing stores sell, on average, more than 7-8 times what the worst-performing stores sell."
      ]
    },
    {
      "cell_type": "markdown",
      "metadata": {
        "id": "PVzmfK_Ep1ck"
      },
      "source": [
        "##### 3. Will the gained insights help creating a positive business impact?\n",
        "Are there any insights that lead to negative growth? Justify with specific reason."
      ]
    },
    {
      "cell_type": "markdown",
      "metadata": {
        "id": "druuKYZpp1ck"
      },
      "source": [
        "**Positive Business Impact:**\n",
        "* This is extremely actionable.\n",
        "    * **Best Practices:** The business can conduct a deep-dive analysis into the top-performing stores. What makes store 20 so successful? Is it location, management, product assortment, or something else? These \"best practices\" can then be documented and implemented in other stores to lift their performance.\n",
        "    * **Targeted Support:** The company can create targeted intervention plans for the bottom 15 stores, providing them with additional support, training, or resources to boost their sales.\n",
        "\n",
        "**Insights Leading to Negative Growth:**\n",
        "* Yes. The **existence of chronically underperforming stores** is a direct threat to the company's profitability and can lead to negative growth. These stores might be operating at a net loss, draining resources that could be better invested in the high-performing stores. If the intervention plans fail to improve their performance, the company may need to make tough decisions about closing or relocating these stores to prevent them from continuing to damage the overall financial health of the business."
      ]
    },
    {
      "cell_type": "markdown",
      "metadata": {
        "id": "n3dbpmDWp1ck"
      },
      "source": [
        "#### Chart - 12"
      ]
    },
    {
      "cell_type": "code",
      "execution_count": null,
      "metadata": {
        "id": "bwevp1tKp1ck"
      },
      "outputs": [],
      "source": [
        "# Chart - 12 visualization code\n",
        "# Let's analyze the impact of the most common markdown, MarkDown1.\n",
        "# We will filter out the zero values to see the effect only when a markdown is active.\n",
        "markdown_df = df[df['MarkDown1'] > 0]\n",
        "\n",
        "plt.figure(figsize=(14, 8))\n",
        "sns.scatterplot(x='MarkDown1', y='Weekly_Sales', data=markdown_df, alpha=0.3, color='green')\n",
        "plt.title('Weekly Sales vs. MarkDown1 (When Active)', fontsize=16)\n",
        "plt.xlabel('MarkDown1 Value', fontsize=12)\n",
        "plt.ylabel('Weekly Sales', fontsize=12)\n",
        "plt.show()"
      ]
    },
    {
      "cell_type": "markdown",
      "metadata": {
        "id": "ylSl6qgtp1ck"
      },
      "source": [
        "##### 1. Why did you pick the specific chart?"
      ]
    },
    {
      "cell_type": "markdown",
      "metadata": {
        "id": "m2xqNkiQp1ck"
      },
      "source": [
        "A **scatterplot** is the best choice to examine the relationship between the amount of a promotional markdown (`MarkDown1`) and the resulting `Weekly_Sales`. I filtered the data to only include instances where `MarkDown1` was greater than zero. This is crucial because including all the zero values would clutter the plot and obscure the relationship when a promotion is *actually* running."
      ]
    },
    {
      "cell_type": "markdown",
      "metadata": {
        "id": "ZWILFDl5p1ck"
      },
      "source": [
        "##### 2. What is/are the insight(s) found from the chart?"
      ]
    },
    {
      "cell_type": "markdown",
      "metadata": {
        "id": "x-lUsV2mp1ck"
      },
      "source": [
        "The chart shows a somewhat noisy but noticeable **positive relationship**.\n",
        "* **General Trend:** As the value of `MarkDown1` increases, there is a tendency for `Weekly_Sales` to also increase.\n",
        "* **High Sales Concentration:** The highest sales figures are overwhelmingly associated with weeks that have some level of markdown, even if it's a small one. Very high sales rarely occur without a promotion.\n",
        "* **Diminishing Returns?:** The relationship is strongest for smaller markdown values. Very large markdowns do not always correlate with the absolute highest sales, suggesting there might be a point of diminishing returns."
      ]
    },
    {
      "cell_type": "markdown",
      "metadata": {
        "id": "M7G43BXep1ck"
      },
      "source": [
        "##### 3. Will the gained insights help creating a positive business impact?\n",
        "Are there any insights that lead to negative growth? Justify with specific reason."
      ]
    },
    {
      "cell_type": "markdown",
      "metadata": {
        "id": "5wwDJXsLp1cl"
      },
      "source": [
        "**Positive Business Impact:**\n",
        "* Yes, this directly validates the effectiveness of the company's promotional strategy. The insight that sales increase with markdowns provides a clear justification for continuing to invest in promotional activities. The business can use this data to optimize the size and timing of their markdowns to maximize revenue during key periods.\n",
        "\n",
        "**Insights Leading to Negative Growth:**\n",
        "* Yes, this insight also highlights a significant risk: **margin erosion**. While markdowns drive top-line revenue (`Weekly_Sales`), they do so by reducing the price of goods, which shrinks the profit margin on each item sold. An over-reliance on large, frequent markdowns can train customers to wait for sales, cannibalizing full-price purchases and leading to lower overall profitability. If the increase in sales volume from a markdown does not offset the loss in margin, it can directly lead to negative profit growth, even if revenue is increasing."
      ]
    },
    {
      "cell_type": "markdown",
      "metadata": {
        "id": "Ag9LCva-p1cl"
      },
      "source": [
        "#### Chart - 13"
      ]
    },
    {
      "cell_type": "code",
      "execution_count": null,
      "metadata": {
        "id": "EUfxeq9-p1cl"
      },
      "outputs": [],
      "source": [
        "# Chart - 13 visualization code\n",
        "# We need to create the 'Year' feature first if it's not already there\n",
        "if 'Year' not in df.columns:\n",
        "    df['Year'] = df['Date'].dt.year\n",
        "\n",
        "plt.figure(figsize=(12, 8))\n",
        "sns.boxplot(x='Year', y='Weekly_Sales', data=df, showfliers=False, palette='deep')\n",
        "plt.title('Weekly Sales Distribution by Year', fontsize=16)\n",
        "plt.xlabel('Year', fontsize=12)\n",
        "plt.ylabel('Weekly Sales', fontsize=12)\n",
        "plt.show()"
      ]
    },
    {
      "cell_type": "markdown",
      "metadata": {
        "id": "E6MkPsBcp1cl"
      },
      "source": [
        "##### 1. Why did you pick the specific chart?"
      ]
    },
    {
      "cell_type": "markdown",
      "metadata": {
        "id": "V22bRsFWp1cl"
      },
      "source": [
        "A **boxplot** is an excellent tool for comparing the distribution of a continuous variable (`Weekly_Sales`) across different years. It allows us to see changes in the median, quartiles, and overall range of sales from one year to the next. I have disabled outliers (`showfliers=False`) to focus on the change in the core distribution of sales."
      ]
    },
    {
      "cell_type": "markdown",
      "metadata": {
        "id": "2cELzS2fp1cl"
      },
      "source": [
        "##### 2. What is/are the insight(s) found from the chart?"
      ]
    },
    {
      "cell_type": "markdown",
      "metadata": {
        "id": "ozQPc2_Ip1cl"
      },
      "source": [
        "The boxplot shows the year-over-year performance of the company's sales.\n",
        "* **Stable Median Sales:** The median weekly sales (the line in the middle of the box) appear to be relatively stable across 2010, 2011, and 2012.\n",
        "* **Slight Growth in Upper Quartile:** The upper end of the sales distribution (the top of the box, or 75th percentile) seems to be slightly higher in 2011 and 2012 compared to 2010. This suggests that while the typical week's sales are steady, the better-performing weeks are getting slightly better.\n",
        "* **Overall Consistency:** The overall insight is one of stability rather than dramatic growth or decline in the core weekly sales performance."
      ]
    },
    {
      "cell_type": "markdown",
      "metadata": {
        "id": "3MPXvC8up1cl"
      },
      "source": [
        "##### 3. Will the gained insights help creating a positive business impact?\n",
        "Are there any insights that lead to negative growth? Justify with specific reason."
      ]
    },
    {
      "cell_type": "markdown",
      "metadata": {
        "id": "GL8l1tdLp1cl"
      },
      "source": [
        "**Positive Business Impact:**\n",
        "* Yes. The insight of **stability** is valuable for financial forecasting and budgeting. It suggests that the business is mature and its sales are predictable, which allows for reliable planning. The slight lift in the upper quartile indicates that strategic initiatives during peak times might be paying off, encouraging the business to continue investing in what works during high-sales periods.\n",
        "\n",
        "**Insights Leading to Negative Growth:**\n",
        "* Yes, the chart points to a potential long-term problem: **stagnation**. While stable, the lack of significant growth in the median weekly sales year-over-year could be a red flag. In a competitive retail market, a failure to grow can effectively mean falling behind competitors. This insight should prompt the business to ask critical questions: Why are we not seeing more growth in a typical week? What new strategies can we implement to raise the median sales level and not just the peak performance? If this trend of stagnation continues, it could lead to a decline in market share and eventual negative growth."
      ]
    },
    {
      "cell_type": "markdown",
      "metadata": {
        "id": "NC_X3p0fY2L0"
      },
      "source": [
        "#### Chart - 14 - Correlation Heatmap"
      ]
    },
    {
      "cell_type": "code",
      "execution_count": null,
      "metadata": {
        "id": "xyC9zolEZNRQ"
      },
      "outputs": [],
      "source": [
        "# Chart - 5 visualization code\n",
        "# Correlation Heatmap\n",
        "plt.figure(figsize=(16, 10))\n",
        "# Select only numerical columns for the correlation matrix\n",
        "numerical_cols = df.select_dtypes(include=np.number).columns\n",
        "correlation_matrix = df[numerical_cols].corr()\n",
        "sns.heatmap(correlation_matrix, annot=True, cmap='coolwarm', fmt='.2f')\n",
        "plt.title('Correlation Matrix of Numerical Features', fontsize=16)\n",
        "plt.show()"
      ]
    },
    {
      "cell_type": "markdown",
      "metadata": {
        "id": "UV0SzAkaZNRQ"
      },
      "source": [
        "##### 1. Why did you pick the specific chart?"
      ]
    },
    {
      "cell_type": "markdown",
      "metadata": {
        "id": "DVPuT8LYZNRQ"
      },
      "source": [
        "A **correlation heatmap** is the best way to visualize the linear relationships between all numerical variables in the dataset at once. The colors and annotated values make it easy to quickly identify which variables are positively or negatively correlated with each other, and especially with our target variable, `Weekly_Sales`. This helps in understanding multicollinearity and in initial feature selection."
      ]
    },
    {
      "cell_type": "markdown",
      "metadata": {
        "id": "YPEH6qLeZNRQ"
      },
      "source": [
        "##### 2. What is/are the insight(s) found from the chart?"
      ]
    },
    {
      "cell_type": "markdown",
      "metadata": {
        "id": "bfSqtnDqZNRR"
      },
      "source": [
        "The heatmap reveals several relationships:\n",
        "\n",
        "* **Strongest Positive Correlation with Sales:** `Store` and `Dept` have some correlation with `Weekly_Sales`, which is expected. More importantly, `Size` has a moderate positive correlation (0.24) with `Weekly_Sales`, confirming that larger stores tend to have higher sales.\n",
        "* **Correlations Among Features:** There is a very strong negative correlation between `Unemployment` and `CPI`, which makes economic sense.\n",
        "* **Weak Correlations:** Features like `Temperature`, `Fuel_Price`, `CPI`, and `Unemployment` have very weak linear correlations with `Weekly_Sales`. This doesn't mean they are useless, but their relationship with sales might be non-linear or less direct, which is something a tree-based model can capture better than a linear model.\n",
        "* **Markdown Correlations:** The `MarkDown` features have a slight positive correlation with `Weekly_Sales`, suggesting that promotions do help drive sales."
      ]
    },
    {
      "cell_type": "markdown",
      "metadata": {
        "id": "22aHeOlLveiV"
      },
      "source": [
        "##### 2. What is/are the insight(s) found from the chart?"
      ]
    },
    {
      "cell_type": "markdown",
      "metadata": {
        "id": "uPQ8RGwHveiV"
      },
      "source": [
        "The pair plot on the sampled data consolidates many of our previous findings into one grid:\n",
        "* **Distributions (Diagonal):** The histogram for `Weekly_Sales` confirms its strong right skew. The distributions for `CPI` and `Unemployment` appear multi-modal (having several peaks), while `Temperature` is more evenly distributed. `Size` shows distinct clusters representing the different, fixed store sizes.\n",
        "* **Relationships (Scatterplots):** The plot of `Weekly_Sales` vs. `Size` visually re-confirms the positive but noisy relationship we saw earlier. The other scatterplots involving `Weekly_Sales` show no discernible patterns, reinforcing that `CPI`, `Unemployment`, `Temperature`, and `Fuel_Price` are not strong linear predictors of sales. This confirms the findings from our individual scatterplots and the correlation matrix."
      ]
    },
    {
      "cell_type": "markdown",
      "metadata": {
        "id": "RfpD1IiK7ivU"
      },
      "source": [
        "##### 3. Will the gained insights help creating a positive business impact?\n",
        "Are there any insights that lead to negative growth? Justify with specific reason."
      ]
    },
    {
      "cell_type": "markdown",
      "metadata": {
        "id": "u_7yBjqc7ivU"
      },
      "source": [
        "**Positive Business Impact:**\n",
        "* Yes. The primary business value of the pair plot is in its **efficiency for data exploration**. It quickly validates multiple hypotheses at once. For a data science team, this speeds up the initial analysis phase, allowing them to move more quickly to feature engineering and modeling. For stakeholders, it provides a single, albeit complex, graphic that summarizes the key data characteristics, confirming that the analysis is comprehensive. It reinforces the strategic conclusion to focus on store-specific attributes (like Size) rather than broad economic indicators.\n",
        "\n",
        "**Insights Leading to Negative Growth:**\n",
        "* The pair plot itself does not introduce new insights that point to negative growth beyond what has already been discussed in the individual charts. Its role is to confirm and summarize. The risk associated with a pair plot is one of misinterpretation or oversimplification. A manager might glance at the chart and dismiss a variable as \"unimportant\" because its scatterplot with sales looks like a blob, without appreciating the potential for non-linear relationships that a more advanced model could capture."
      ]
    },
    {
      "cell_type": "markdown",
      "metadata": {
        "id": "g-ATYxFrGrvw"
      },
      "source": [
        "## ***5. Hypothesis Testing***"
      ]
    },
    {
      "cell_type": "markdown",
      "metadata": {
        "id": "Yfr_Vlr8HBkt"
      },
      "source": [
        "### Based on your chart experiments, define three hypothetical statements from the dataset. In the next three questions, perform hypothesis testing to obtain final conclusion about the statements through your code and statistical testing.\n"
      ]
    },
    {
      "cell_type": "markdown",
      "metadata": {
        "id": "-7MS06SUHkB-"
      },
      "source": [
        "\n",
        "**Hypothetical Statement 1:** The average weekly sales during holiday weeks are significantly higher than the average weekly sales during non-holiday weeks.\n",
        "\n",
        "**Hypothetical Statement 2:** Type A stores have significantly higher average weekly sales than Type B stores.\n",
        "\n",
        "**Hypothetical Statement 3:** There is a statistically significant positive correlation between a store's size and its weekly sales."
      ]
    },
    {
      "cell_type": "markdown",
      "metadata": {
        "id": "8yEUt7NnHlrM"
      },
      "source": [
        "### Hypothetical Statement - 1"
      ]
    },
    {
      "cell_type": "markdown",
      "metadata": {
        "id": "tEA2Xm5dHt1r"
      },
      "source": [
        "#### 1. State Your research hypothesis as a null hypothesis and alternate hypothesis."
      ]
    },
    {
      "cell_type": "markdown",
      "metadata": {
        "id": "HI9ZP0laH0D-"
      },
      "source": [
        "* **Null Hypothesis ($H_0$):** The average weekly sales during holiday weeks are equal to the average weekly sales during non-holiday weeks.\n",
        "    ($H_0: \\mu_{holiday} = \\mu_{non-holiday}$)\n",
        "\n",
        "* **Alternative Hypothesis ($H_a$):** The average weekly sales during holiday weeks are greater than the average weekly sales during non-holiday weeks.\n",
        "    ($H_a: \\mu_{holiday} > \\mu_{non-holiday}$)\n",
        "\n",
        "We will use a significance level (alpha) of $\\alpha = 0.05$."
      ]
    },
    {
      "cell_type": "markdown",
      "metadata": {
        "id": "I79__PHVH19G"
      },
      "source": [
        "#### 2. Perform an appropriate statistical test."
      ]
    },
    {
      "cell_type": "code",
      "execution_count": null,
      "metadata": {
        "id": "oZrfquKtyian"
      },
      "outputs": [],
      "source": [
        "from scipy.stats import ttest_ind\n",
        "\n",
        "# Create two independent samples: one for holiday sales, one for non-holiday sales\n",
        "holiday_sales = df[df['IsHoliday'] == 1]['Weekly_Sales']\n",
        "non_holiday_sales = df[df['IsHoliday'] == 0]['Weekly_Sales']\n",
        "\n",
        "# Perform the independent two-sample t-test.\n",
        "# We set equal_var=False because the sales variance on holidays might be different.\n",
        "t_statistic, p_value_two_tailed = ttest_ind(holiday_sales, non_holiday_sales, equal_var=False)\n",
        "\n",
        "# Our alternative hypothesis is one-sided (greater than), so we divide the p-value by 2.\n",
        "p_value_one_tailed = p_value_two_tailed / 2\n",
        "\n",
        "print(f\"--- Holiday vs. Non-Holiday Sales T-test ---\")\n",
        "print(f\"T-statistic: {t_statistic:.4f}\")\n",
        "print(f\"P-value (one-tailed): {p_value_one_tailed:.4f}\")"
      ]
    },
    {
      "cell_type": "markdown",
      "metadata": {
        "id": "Ou-I18pAyIpj"
      },
      "source": [
        "##### Which statistical test have you done to obtain P-Value?"
      ]
    },
    {
      "cell_type": "markdown",
      "metadata": {
        "id": "s2U0kk00ygSB"
      },
      "source": [
        "To obtain the P-Value for this hypothesis, I performed an **Independent Two-Sample T-test**."
      ]
    },
    {
      "cell_type": "markdown",
      "metadata": {
        "id": "fF3858GYyt-u"
      },
      "source": [
        "##### Why did you choose the specific statistical test?"
      ]
    },
    {
      "cell_type": "markdown",
      "metadata": {
        "id": "HO4K0gP5y3B4"
      },
      "source": [
        "I chose the Independent Two-Sample T-test because it is the ideal statistical method for this specific scenario, based on the following reasons:\n",
        "\n",
        "1.  **Objective:** The primary goal was to compare the **average** (`mean`) of a continuous variable (`Weekly_Sales`) between two distinct, non-overlapping groups.\n",
        "2.  **Group Independence:** The sales data from holiday weeks are completely independent of the sales data from non-holiday weeks. The performance in one group does not influence the other.\n",
        "3.  **Unknown Population Variance:** We do not know the true standard deviation of sales for all holiday or non-holiday weeks in the universe. A T-test is specifically designed for situations where the population parameters must be estimated from the sample data.\n",
        "\n",
        "This combination of factors makes the T-test the most appropriate and reliable choice to validate our hypothesis."
      ]
    },
    {
      "cell_type": "markdown",
      "metadata": {
        "id": "4_0_7-oCpUZd"
      },
      "source": [
        "### Hypothetical Statement - 2"
      ]
    },
    {
      "cell_type": "markdown",
      "metadata": {
        "id": "hwyV_J3ipUZe"
      },
      "source": [
        "#### 1. State Your research hypothesis as a null hypothesis and alternate hypothesis."
      ]
    },
    {
      "cell_type": "markdown",
      "metadata": {
        "id": "FnpLGJ-4pUZe"
      },
      "source": [
        "* **Null Hypothesis ($H_0$):** The average weekly sales for Store Type A is equal to the average weekly sales for Store Type B.\n",
        "    ($H_0: \\mu_{TypeA} = \\mu_{TypeB}$)\n",
        "\n",
        "* **Alternative Hypothesis ($H_a$):** The average weekly sales for Store Type A is greater than the average weekly sales for Store Type B.\n",
        "    ($H_a: \\mu_{TypeA} > \\mu_{TypeB}$)"
      ]
    },
    {
      "cell_type": "markdown",
      "metadata": {
        "id": "3yB-zSqbpUZe"
      },
      "source": [
        "#### 2. Perform an appropriate statistical test."
      ]
    },
    {
      "cell_type": "code",
      "execution_count": null,
      "metadata": {
        "id": "sWxdNTXNpUZe"
      },
      "outputs": [],
      "source": [
        "# Perform Statistical Test to obtain P-Value\n",
        "# Write your code here\n",
        "# Create samples for Store Type A and Store Type B sales using the original 'Type' column\n",
        "sales_type_a = df[df['Type'] == 'A']['Weekly_Sales']\n",
        "sales_type_b = df[df['Type'] == 'B']['Weekly_Sales']\n",
        "\n",
        "# Perform the independent t-test\n",
        "t_stat_type, p_val_type_two_tailed = ttest_ind(sales_type_a, sales_type_b, equal_var=False)\n",
        "\n",
        "# Calculate the one-tailed p-value for Ha: Type A > Type B\n",
        "p_val_type_one_tailed = p_val_type_two_tailed / 2\n",
        "\n",
        "print(f\"--- Store Type A vs. Type B Sales T-test ---\")\n",
        "print(f\"T-statistic: {t_stat_type:.4f}\")\n",
        "print(f\"P-value (one-tailed): {p_val_type_one_tailed}\")"
      ]
    },
    {
      "cell_type": "markdown",
      "metadata": {
        "id": "dEUvejAfpUZe"
      },
      "source": [
        "##### Which statistical test have you done to obtain P-Value?"
      ]
    },
    {
      "cell_type": "markdown",
      "metadata": {
        "id": "oLDrPz7HpUZf"
      },
      "source": [
        "I again used the **Independent Two-Sample T-test** to obtain the P-Value for this hypothesis."
      ]
    },
    {
      "cell_type": "markdown",
      "metadata": {
        "id": "Fd15vwWVpUZf"
      },
      "source": [
        "##### Why did you choose the specific statistical test?"
      ]
    },
    {
      "cell_type": "markdown",
      "metadata": {
        "id": "4xOGYyiBpUZf"
      },
      "source": [
        "The reasoning is the same as for the first hypothesis. We are comparing the means of two independent groups (Type A stores vs. Type B stores) on a continuous variable (`Weekly_Sales`). The sales in one store type do not affect the sales in the other, and we are estimating population parameters from our sample. This makes the independent T-test the correct statistical choice."
      ]
    },
    {
      "cell_type": "markdown",
      "metadata": {
        "id": "bn_IUdTipZyH"
      },
      "source": [
        "### Hypothetical Statement - 3"
      ]
    },
    {
      "cell_type": "markdown",
      "metadata": {
        "id": "49K5P_iCpZyH"
      },
      "source": [
        "#### 1. State Your research hypothesis as a null hypothesis and alternate hypothesis."
      ]
    },
    {
      "cell_type": "markdown",
      "metadata": {
        "id": "7gWI5rT9pZyH"
      },
      "source": [
        "\n",
        "* **Null Hypothesis ($H_0$):** There is no correlation between a store's size and its weekly sales (the population correlation coefficient, $\\rho$, is 0).\n",
        "    ($H_0: \\rho = 0$)\n",
        "\n",
        "* **Alternative Hypothesis ($H_a$):** There is a positive correlation between a store's size and its weekly sales.\n",
        "    ($H_a: \\rho > 0$)"
      ]
    },
    {
      "cell_type": "markdown",
      "metadata": {
        "id": "Nff-vKELpZyI"
      },
      "source": [
        "#### 2. Perform an appropriate statistical test."
      ]
    },
    {
      "cell_type": "code",
      "execution_count": null,
      "metadata": {
        "id": "s6AnJQjtpZyI"
      },
      "outputs": [],
      "source": [
        "# Perform Statistical Test to obtain P-Value\n",
        "from scipy.stats import pearsonr\n",
        "\n",
        "# Perform the Pearson correlation test to check for a linear relationship\n",
        "corr_coefficient, p_value = pearsonr(df['Size'], df['Weekly_Sales'])\n",
        "\n",
        "# The p-value from pearsonr is for a two-tailed test. For a one-tailed test (Ha: rho > 0),\n",
        "# we divide it by 2 if the correlation is in the expected direction (positive).\n",
        "p_value_one_tailed = p_value / 2 if corr_coefficient > 0 else 1 - (p_value / 2)\n",
        "\n",
        "\n",
        "print(f\"--- Store Size vs. Weekly Sales Correlation Test ---\")\n",
        "print(f\"Pearson Correlation Coefficient: {corr_coefficient:.4f}\")\n",
        "print(f\"P-value (one-tailed): {p_value_one_tailed}\")"
      ]
    },
    {
      "cell_type": "markdown",
      "metadata": {
        "id": "kLW572S8pZyI"
      },
      "source": [
        "##### Which statistical test have you done to obtain P-Value?"
      ]
    },
    {
      "cell_type": "markdown",
      "metadata": {
        "id": "ytWJ8v15pZyI"
      },
      "source": [
        "To obtain the P-Value for this hypothesis, I performed a **Pearson Correlation Test**."
      ]
    },
    {
      "cell_type": "markdown",
      "metadata": {
        "id": "dWbDXHzopZyI"
      },
      "source": [
        "##### Why did you choose the specific statistical test?"
      ]
    },
    {
      "cell_type": "markdown",
      "metadata": {
        "id": "M99G98V6pZyI"
      },
      "source": [
        "I chose the Pearson Correlation Test for this hypothesis because it is specifically designed to measure the strength and significance of a **linear relationship between two continuous variables**.\n",
        "\n",
        "1.  **Objective:** The goal was not to compare means, but to determine if `Weekly_Sales` tends to increase as `Size` increases.\n",
        "2.  **Continuous Variables:** Both `Size` and `Weekly_Sales` are continuous, numerical variables.\n",
        "3.  **Test Output:** The test provides two key outputs: the correlation coefficient ($\\rho$), which quantifies the strength and direction of the relationship, and the P-Value, which tells us if this observed correlation is statistically significant."
      ]
    },
    {
      "cell_type": "markdown",
      "metadata": {
        "id": "yLjJCtPM0KBk"
      },
      "source": [
        "## ***6. Feature Engineering & Data Pre-processing***"
      ]
    },
    {
      "cell_type": "markdown",
      "metadata": {
        "id": "xiyOF9F70UgQ"
      },
      "source": [
        "### 1. Handling Missing Values"
      ]
    },
    {
      "cell_type": "code",
      "execution_count": null,
      "metadata": {
        "id": "iRsAHk1K0fpS"
      },
      "outputs": [],
      "source": [
        "# As confirmed in the Data Wrangling section, we have already handled all missing values.\n",
        "# This cell serves as a final verification before proceeding.\n",
        "print(f\"Total missing values in the dataframe: {df.isnull().sum().sum()}\")"
      ]
    },
    {
      "cell_type": "markdown",
      "metadata": {
        "id": "7wuGOrhz0itI"
      },
      "source": [
        "#### What all missing value imputation techniques have you used and why did you use those techniques?"
      ]
    },
    {
      "cell_type": "markdown",
      "metadata": {
        "id": "1ixusLtI0pqI"
      },
      "source": [
        "I used two different imputation techniques to handle the missing values in the dataset, chosen based on the context of the specific columns:\n",
        "\n",
        "**1. Constant Value Imputation (Filling with 0)**\n",
        "\n",
        "* **Columns Treated:** `MarkDown1`, `MarkDown2`, `MarkDown3`, `MarkDown4`, `MarkDown5`.\n",
        "* **Reason:** The missing values in the promotional markdown columns are not random errors; they signify that **no markdown was applied** for that store in that particular week. Therefore, filling these missing entries with `0` is the most logical and contextually accurate approach. It correctly represents the business reality of a zero-dollar promotion rather than treating it as unknown data.\n",
        "\n",
        "**2. Forward Fill (`ffill`) Method**\n",
        "\n",
        "* **Columns Treated:** `CPI` and `Unemployment`.\n",
        "* **Reason:** The Consumer Price Index (CPI) and Unemployment rate are macroeconomic indicators that are typically reported on a monthly basis and do not fluctuate wildly from one week to the next. Using the `forward fill` method propagates the last known valid observation forward. This is a sound strategy for this type of time-series data because the value from the immediately preceding week is the most likely and reasonable estimate for a missing value in the current week. This method preserves the temporal nature of the data better than imputing with a global mean or median."
      ]
    },
    {
      "cell_type": "markdown",
      "metadata": {
        "id": "id1riN9m0vUs"
      },
      "source": [
        "### 2. Handling Outliers"
      ]
    },
    {
      "cell_type": "code",
      "execution_count": null,
      "metadata": {
        "id": "M6w2CzZf04JK"
      },
      "outputs": [],
      "source": [
        "# Handling Outliers & Outlier treatments\n",
        "# As discussed during EDA, our target variable Weekly_Sales is highly right-skewed.\n",
        "# While these high values could be considered outliers, they represent legitimate peak sales periods (like holidays)\n",
        "# and are crucial for the model to learn from.\n",
        "# Tree-based models like Random Forest and Gradient Boosting are robust to outliers, so we will not remove them.\n",
        "\n",
        "# We will, however, address the negative sales values by clipping them at 0,\n",
        "# as negative sales are not logical for a predictive model's target.\n",
        "print(f\"Number of rows with negative Weekly_Sales before clipping: {df[df['Weekly_Sales'] <= 0].shape[0]}\")\n",
        "\n",
        "df['Weekly_Sales'] = df['Weekly_Sales'].clip(lower=0)\n",
        "\n",
        "print(f\"Number of rows with negative Weekly_Sales after clipping: {df[df['Weekly_Sales'] < 0].shape[0]}\")"
      ]
    },
    {
      "cell_type": "markdown",
      "metadata": {
        "id": "578E2V7j08f6"
      },
      "source": [
        "##### What all outlier treatment techniques have you used and why did you use those techniques?"
      ]
    },
    {
      "cell_type": "markdown",
      "metadata": {
        "id": "uGZz5OrT1HH-"
      },
      "source": [
        "I have used the **clipping** technique for outlier treatment, but only for the negative values of `Weekly_Sales`.\n",
        "\n",
        "* **Technique Used:** I replaced all `Weekly_Sales` values less than or equal to zero with zero itself.\n",
        "* **Reason:** Negative sales, which likely represent customer returns exceeding purchases in a given week, are problematic for a regression model whose goal is to predict future positive sales. Clipping them at zero is a reasonable business assumption that prevents the model from being skewed by these anomalous data points without removing the entire row of valuable feature information.\n",
        "\n",
        "For the high-value outliers (peak sales), I chose **not to perform any treatment**. This is because:\n",
        "1.  They represent legitimate and important business events (e.g., Christmas week sales). Removing them would mean losing critical information about the business's most profitable periods.\n",
        "2.  The chosen final models (Random Forest, Gradient Boosting) are tree-based and are inherently robust to outliers. They partition the data and are not as sensitive to the magnitude of extreme values as linear models are."
      ]
    },
    {
      "cell_type": "markdown",
      "metadata": {
        "id": "89xtkJwZ18nB"
      },
      "source": [
        "### 3. Categorical Encoding"
      ]
    },
    {
      "cell_type": "code",
      "execution_count": null,
      "metadata": {
        "id": "21JmIYMG2hEo"
      },
      "outputs": [],
      "source": [
        "# Encode your categorical columns\n",
        "# The only categorical column to encode is 'Type'.\n",
        "# We use one-hot encoding to convert it into numerical format without implying any ordinal relationship.\n",
        "df = pd.get_dummies(df, columns=['Type'], prefix='Type')\n",
        "\n",
        "print(\"DataFrame head after one-hot encoding:\")\n",
        "df.head()"
      ]
    },
    {
      "cell_type": "markdown",
      "metadata": {
        "id": "67NQN5KX2AMe"
      },
      "source": [
        "#### What all categorical encoding techniques have you used & why did you use those techniques?"
      ]
    },
    {
      "cell_type": "markdown",
      "metadata": {
        "id": "UDaue5h32n_G"
      },
      "source": [
        "I have used one specific categorical encoding technique:\n",
        "\n",
        "* **Technique Used:** **One-Hot Encoding** (implemented using the `pandas.get_dummies()` function).\n",
        "\n",
        "* **Column Treated:** The `Type` column, which has the categories 'A', 'B', and 'C'.\n",
        "\n",
        "* **Why I Chose This Technique:**\n",
        "    1.  **Nominal Data:** The `Type` variable is nominal, meaning the categories have no intrinsic order or rank. 'Type A' is not inherently \"greater\" or \"lesser\" than 'Type B'; they are simply different labels.\n",
        "    2.  **Avoiding False Ordinality:** Using other methods like Label Encoding would assign integer values (e.g., A=0, B=1, C=2). This would incorrectly introduce a mathematical relationship between the categories, implying to the model that C has twice the value of B, which is not true.\n",
        "    3.  **Clear Representation:** One-Hot Encoding avoids this issue by creating new binary columns (`Type_A`, `Type_B`, `Type_C`). A row will have a `1` in the column corresponding to its store type and `0` in the others. This allows the machine learning model to learn the individual impact of each store type independently, without assuming a false order. It is the standard and most appropriate method for handling nominal categorical features in regression models."
      ]
    },
    {
      "cell_type": "markdown",
      "metadata": {
        "id": "Iwf50b-R2tYG"
      },
      "source": [
        "### 4. Textual Data Preprocessing\n",
        "(It's mandatory for textual dataset i.e., NLP, Sentiment Analysis, Text Clustering etc.)"
      ]
    },
    {
      "cell_type": "markdown",
      "metadata": {
        "id": "GMQiZwjn3iu7"
      },
      "source": [
        "#### 1. Expand Contraction"
      ]
    },
    {
      "cell_type": "markdown",
      "metadata": {
        "id": "PTouz10C3oNN"
      },
      "source": [
        "This dataset does not contain any free-form text columns where contractions (e.g., \"don't\", \"can't\") would be present. Therefore, the step of expanding contractions is not applicable to this project. This technique is essential for NLP tasks to standardize text, but since we have no text data, **we can skip this step.**"
      ]
    },
    {
      "cell_type": "markdown",
      "metadata": {
        "id": "WVIkgGqN3qsr"
      },
      "source": [
        "#### 2. Lower Casing"
      ]
    },
    {
      "cell_type": "markdown",
      "metadata": {
        "id": "88JnJ1jN3w7j"
      },
      "source": [
        "Lower casing is a standard procedure in textual data preprocessing to ensure uniformity (e.g., treating \"Apple\" and \"apple\" as the same word). However, our dataset does not contain any textual columns that would require this transformation. The categorical 'Type' column ('A', 'B', 'C') is already uniform. Therefore, **this step is not needed.**"
      ]
    },
    {
      "cell_type": "markdown",
      "metadata": {
        "id": "XkPnILGE3zoT"
      },
      "source": [
        "#### 3. Removing Punctuations"
      ]
    },
    {
      "cell_type": "markdown",
      "metadata": {
        "id": "vqbBqNaA33c0"
      },
      "source": [
        "Removing punctuations is another crucial step for cleaning textual data. As our dataset consists of numerical, categorical, and date-based columns, there are no punctuations within data fields that need to be removed. **This step is not applicable here.**"
      ]
    },
    {
      "cell_type": "markdown",
      "metadata": {
        "id": "Hlsf0x5436Go"
      },
      "source": [
        "#### 4. Removing URLs & Removing words and digits contain digits."
      ]
    },
    {
      "cell_type": "markdown",
      "metadata": {
        "id": "2sxKgKxu4Ip3"
      },
      "source": [
        "This step is necessary when dealing with text scraped from the web, which might contain URLs or HTML formatting. Our dataset is a structured collection of sales and feature data and does not contain any URLs or HTML tags. Therefore, this preprocessing **step is not applicable.**"
      ]
    },
    {
      "cell_type": "markdown",
      "metadata": {
        "id": "mT9DMSJo4nBL"
      },
      "source": [
        "#### 5. Removing Stopwords & Removing White spaces"
      ]
    },
    {
      "cell_type": "markdown",
      "metadata": {
        "id": "T2LSJh154s8W"
      },
      "source": [
        "Stopwords (common words like \"the\", \"a\", \"is\") are typically removed in NLP tasks to help the model focus on more meaningful words. Since our dataset has no textual columns, there are no stopwords to remove. **This step is not applicable.**"
      ]
    },
    {
      "cell_type": "markdown",
      "metadata": {
        "id": "EgLJGffy4vm0"
      },
      "source": [
        "# Remove White spaces"
      ]
    },
    {
      "cell_type": "markdown",
      "metadata": {
        "id": "1UB9CKpZ7iv3"
      },
      "source": [
        "Removing leading, trailing, or excessive white spaces is a common data cleaning step, especially for textual data, to ensure consistency. While our current dataset's categorical and numerical columns are clean and do not have whitespace issues, this step would be critical if we had columns with string data that might have inconsistent formatting (e.g., \" Type A \" vs. \"Type A\"). For this specific dataset, **the step is not required**, but it is a standard part of a robust data cleaning pipeline."
      ]
    },
    {
      "cell_type": "markdown",
      "metadata": {
        "id": "c49ITxTc407N"
      },
      "source": [
        "#### 6. Removing Stopwords"
      ]
    },
    {
      "cell_type": "markdown",
      "metadata": {
        "id": "foqY80Qu48N2"
      },
      "source": [
        "Stopwords (common words like \"the\", \"a\", \"is\") are typically removed in NLP tasks to help the model focus on more meaningful words. Since our dataset has no textual columns, there are no stopwords to remove. **This step is not applicable.**"
      ]
    },
    {
      "cell_type": "markdown",
      "metadata": {
        "id": "OeJFEK0N496M"
      },
      "source": [
        "#### 7. Tokenization"
      ]
    },
    {
      "cell_type": "markdown",
      "metadata": {
        "id": "ijx1rUOS5CUU"
      },
      "source": [
        "Tokenization is the process of breaking down text into individual words or sentences (tokens). It is a fundamental step in preparing text for any NLP model. As we do not have any text data to tokenize, **this step is not applicable to this project.**"
      ]
    },
    {
      "cell_type": "markdown",
      "metadata": {
        "id": "9ExmJH0g5HBk"
      },
      "source": [
        "#### 8. Text Normalization"
      ]
    },
    {
      "cell_type": "markdown",
      "metadata": {
        "id": "AIJ1a-Zc5PY8"
      },
      "source": [
        "Text normalization is the process of transforming text into a single, canonical form. This often includes steps like stemming, lemmatization, and converting all text to a specific case (e.g., lowercase), which were mentioned in previous steps. Since our dataset does not contain any free-form text columns, there is no text to normalize. **Therefore, this step is not applicable to this project.**"
      ]
    },
    {
      "cell_type": "markdown",
      "metadata": {
        "id": "cJNqERVU536h"
      },
      "source": [
        "##### Which text normalization technique have you used and why?"
      ]
    },
    {
      "cell_type": "markdown",
      "metadata": {
        "id": "Z9jKVxE06BC1"
      },
      "source": [
        "**Not Applicable**"
      ]
    },
    {
      "cell_type": "markdown",
      "metadata": {
        "id": "k5UmGsbsOxih"
      },
      "source": [
        "#### 9. Part of speech tagging"
      ]
    },
    {
      "cell_type": "markdown",
      "metadata": {
        "id": "btT3ZJBAO6Ik"
      },
      "source": [
        "Part-of-speech (POS) tagging is the process of marking up a word in a text as corresponding to a particular part of speech (e.g., noun, verb, adjective). It is an advanced NLP technique used for feature engineering and understanding sentence structure. As our dataset contains no textual sentences to analyze, **POS tagging is not applicable.**"
      ]
    },
    {
      "cell_type": "markdown",
      "metadata": {
        "id": "T0VqWOYE6DLQ"
      },
      "source": [
        "#### 10. Text Vectorization"
      ]
    },
    {
      "cell_type": "markdown",
      "metadata": {
        "id": "yBRtdhth6JDE"
      },
      "source": [
        "Text vectorization (using methods like Bag-of-Words, TF-IDF, or Word2Vec) is the final and critical step in text preprocessing, where text is converted into a numerical format that machine learning models can process. As we have no text to vectorize, **this step is not applicable to our dataset.**"
      ]
    },
    {
      "cell_type": "markdown",
      "metadata": {
        "id": "qBMux9mC6MCf"
      },
      "source": [
        "##### Which text vectorization technique have you used and why?"
      ]
    },
    {
      "cell_type": "markdown",
      "metadata": {
        "id": "su2EnbCh6UKQ"
      },
      "source": [
        "**Not Applicable**"
      ]
    },
    {
      "cell_type": "markdown",
      "metadata": {
        "id": "-oLEiFgy-5Pf"
      },
      "source": [
        "### 4. Feature Manipulation & Selection"
      ]
    },
    {
      "cell_type": "markdown",
      "metadata": {
        "id": "C74aWNz2AliB"
      },
      "source": [
        "#### 1. Feature Manipulation"
      ]
    },
    {
      "cell_type": "markdown",
      "metadata": {
        "id": "h1qC4yhBApWC"
      },
      "source": [
        "Feature manipulation, also known as feature creation, is the process of creating new features from the existing ones to improve model performance. In this project, we have already performed this step.\n",
        "\n",
        "The key feature manipulation was performed on the **`Date`** column. We extracted the following new features:\n",
        "* `Year`\n",
        "* `Month`\n",
        "* `WeekOfYear`\n",
        "* `Day`\n",
        "\n",
        "**Reasoning:**\n",
        "The original `Date` object is not directly usable by most machine learning models. By breaking it down into these numerical components, we allow the model to capture time-based patterns:\n",
        "* **`Year`** helps the model understand long-term trends and inflation-related effects.\n",
        "* **`Month`** and **`WeekOfYear`** are crucial for capturing the strong seasonality (e.g., holiday peaks, summer dips) we observed during EDA.\n",
        "* **`Day`** helps capture any patterns that might exist within a month.\n",
        "\n",
        "This transformation makes the temporal information in the dataset accessible and highly valuable to our regression models."
      ]
    },
    {
      "cell_type": "markdown",
      "metadata": {
        "id": "2DejudWSA-a0"
      },
      "source": [
        "#### 2. Feature Selection"
      ]
    },
    {
      "cell_type": "markdown",
      "metadata": {
        "id": "2KuUNs4_7iv7"
      },
      "source": [
        "##### 1. Manual Feature Selection"
      ]
    },
    {
      "cell_type": "markdown",
      "metadata": {
        "id": "YLhe8UmaBCEE"
      },
      "source": [
        "For this project, we will proceed with manual feature selection based on the insights from our Exploratory Data Analysis and domain knowledge.\n",
        "\n",
        "**Features to Keep:**\n",
        "All the features currently in our dataset will be kept. This includes:\n",
        "* `Store`, `Dept`, `IsHoliday`\n",
        "* `Size`\n",
        "* `Temperature`, `Fuel_Price`, `CPI`, `Unemployment`\n",
        "* All `MarkDown` columns\n",
        "* The one-hot encoded `Type` columns (`Type_A`, `Type_B`, `Type_C`)\n",
        "* The newly created date features (`Year`, `Month`, `WeekOfYear`, `Day`)\n",
        "\n",
        "**Features to Drop:**\n",
        "* `Date`: The original `Date` column will be dropped because we have already extracted all its useful information into the new year, month, week, and day features. Keeping it would be redundant.\n",
        "\n",
        "**Reasoning:**\n",
        "While some features like `Fuel_Price` and `Unemployment` showed a very weak linear correlation with `Weekly_Sales`, tree-based models like Random Forest are capable of finding complex, non-linear relationships. Removing them prematurely could result in a loss of information. Therefore, the best strategy is to initially include all available features and let the model determine their importance."
      ]
    },
    {
      "cell_type": "markdown",
      "metadata": {
        "id": "pEMng2IbBLp7"
      },
      "source": [
        "##### 2. Feature Importance"
      ]
    },
    {
      "cell_type": "markdown",
      "metadata": {
        "id": "rb2Lh6Z8BgGs"
      },
      "source": [
        "Feature importance is a score that indicates how valuable each feature is for making predictions in our model. For tree-based models like the Random Forest we will build, this score is typically calculated by measuring how much a feature contributes to reducing impurity (or variance, in the case of regression) across all the decision trees in the forest.\n",
        "\n",
        "We will calculate and visualize the feature importances *after* training our best-performing model. This will provide the most reliable insight into which features were the most influential drivers of `Weekly_Sales`."
      ]
    },
    {
      "cell_type": "markdown",
      "metadata": {
        "id": "rAdphbQ9Bhjc"
      },
      "source": [
        "##### 3. Feature Top 10 Important Features"
      ]
    },
    {
      "cell_type": "markdown",
      "metadata": {
        "id": "fGgaEstsBnaf"
      },
      "source": [
        "While we will determine the definitive top 10 features after model training, based on our extensive EDA, we can **hypothesize** what they might be:\n",
        "\n",
        "1.  **`Dept`**: Sales are highly dependent on the department.\n",
        "2.  **`Store`**: Individual store performance varies greatly.\n",
        "3.  **`Size`**: Larger stores consistently showed higher sales.\n",
        "4.  **`WeekOfYear`**: Captures the critical seasonal and holiday effects.\n",
        "5.  **`Type_A` / `Type_B`**: Store type is a major differentiator of sales volume.\n",
        "6.  **`Year`**: Accounts for year-over-year trends.\n",
        "7.  **`CPI`**: An important economic indicator.\n",
        "8.  **`Month`**: Captures monthly seasonality.\n",
        "9.  **`IsHoliday`**: Holiday weeks have a significant, proven impact.\n",
        "10. **`MarkDown1`**: Likely the most impactful promotional tool.\n",
        "\n",
        "This list will be formally confirmed and visualized in the \"Explain the model\" section later in the notebook."
      ]
    },
    {
      "cell_type": "markdown",
      "metadata": {
        "id": "TNVZ9zx19K6k"
      },
      "source": [
        "### 5. Data Transformation"
      ]
    },
    {
      "cell_type": "markdown",
      "metadata": {
        "id": "nqoHp30x9hH9"
      },
      "source": [
        "#### Do you think that your data needs to be transformed? If yes, which transformation have you used. Explain Why?"
      ]
    },
    {
      "cell_type": "markdown",
      "metadata": {
        "id": "I6quWQ1T9rtH"
      },
      "source": [
        "**Not Applicable**"
      ]
    },
    {
      "cell_type": "markdown",
      "metadata": {
        "id": "rMDnDkt2B6du"
      },
      "source": [
        "### 6. Data Scaling"
      ]
    },
    {
      "cell_type": "markdown",
      "metadata": {
        "id": "dL9LWpySC6x_"
      },
      "source": [
        "**Not Applicable**"
      ]
    },
    {
      "cell_type": "markdown",
      "metadata": {
        "id": "yiiVWRdJDDil"
      },
      "source": [
        "##### Which method have you used to scale you data and why?"
      ]
    },
    {
      "cell_type": "markdown",
      "metadata": {
        "id": "1UUpS68QDMuG"
      },
      "source": [
        "### 7. Dimesionality Reduction"
      ]
    },
    {
      "cell_type": "markdown",
      "metadata": {
        "id": "kexQrXU-DjzY"
      },
      "source": [
        "##### Do you think that dimensionality reduction is needed? Explain Why?"
      ]
    },
    {
      "cell_type": "markdown",
      "metadata": {
        "id": "GGRlBsSGDtTQ"
      },
      "source": [
        "No, dimensionality reduction is **not needed for this dataset.**\n",
        "\n",
        "Dimensionality reduction techniques, such as Principal Component Analysis (PCA), are most useful in scenarios with a very large number of features (e.g., hundreds or thousands), especially when many of those features are highly correlated.\n",
        "\n",
        "Our current dataset has a relatively small number of features (around 20 after feature engineering). This is a manageable number for modern algorithms and does not pose a significant \"curse of dimensionality\" problem.\n",
        "\n",
        "Furthermore, PCA can reduce the interpretability of the model, as the resulting principal components are linear combinations of the original features. A more effective approach for this project is to use the **feature importance** property of our trained tree-based models. This will allow us to understand which of the *original* features are most predictive, which is a more direct and interpretable form of feature selection."
      ]
    },
    {
      "cell_type": "markdown",
      "metadata": {
        "id": "kQfvxBBHDvCa"
      },
      "source": [
        "# DImensionality Reduction (If needed)"
      ]
    },
    {
      "cell_type": "markdown",
      "metadata": {
        "id": "T5CmagL3EC8N"
      },
      "source": [
        "##### Which dimensionality reduction technique have you used and why? (If dimensionality reduction done on dataset.)"
      ]
    },
    {
      "cell_type": "markdown",
      "metadata": {
        "id": "ZKr75IDuEM7t"
      },
      "source": [
        "**Not Applicalble**"
      ]
    },
    {
      "cell_type": "markdown",
      "metadata": {
        "id": "BhH2vgX9EjGr"
      },
      "source": [
        "### 8. Data Splitting"
      ]
    },
    {
      "cell_type": "code",
      "execution_count": null,
      "metadata": {
        "id": "0CTyd2UwEyNM",
        "scrolled": true
      },
      "outputs": [],
      "source": [
        "# Split your data to train and test. Choose Splitting ratio wisely.\n",
        "from sklearn.model_selection import train_test_split\n",
        "\n",
        "# Define the feature matrix (X) and the target vector (y)\n",
        "y = df['Weekly_Sales']\n",
        "X = df.drop(columns=['Weekly_Sales', 'Date']) # Drop the target and the original Date column\n",
        "\n",
        "# Split the data into training and testing sets\n",
        "X_train, X_test, y_train, y_test = train_test_split(X, y, test_size=0.2, random_state=42)\n",
        "\n",
        "print(\"Data splitting complete.\")\n",
        "print(f\"Shape of X_train: {X_train.shape}\")\n",
        "print(f\"Shape of X_test: {X_test.shape}\")\n",
        "print(f\"Shape of y_train: {y_train.shape}\")\n",
        "print(f\"Shape of y_test: {y_test.shape}\")"
      ]
    },
    {
      "cell_type": "code",
      "execution_count": null,
      "metadata": {
        "id": "7fYgI3PL7iwF"
      },
      "outputs": [],
      "source": [
        "print(X_train.columns.tolist())"
      ]
    },
    {
      "cell_type": "markdown",
      "metadata": {
        "id": "qjKvONjwE8ra"
      },
      "source": [
        "##### What data splitting ratio have you used and why?"
      ]
    },
    {
      "cell_type": "markdown",
      "metadata": {
        "id": "Y2lJ8cobFDb_"
      },
      "source": [
        "To evaluate the performance of our machine learning model, we must split the dataset into two parts:\n",
        "1.  **Training Set:** A subset of the data (typically 80%) on which the model will be trained.\n",
        "2.  **Testing Set:** The remaining subset (20%) that the model has never seen before. We use this set to evaluate how well our trained model generalizes to new, unseen data.\n",
        "\n",
        "This process is crucial to avoid overfitting, where a model learns the training data too well but fails to make accurate predictions on new data."
      ]
    },
    {
      "cell_type": "markdown",
      "metadata": {
        "id": "P1XJ9OREExlT"
      },
      "source": [
        "### 9. Handling Imbalanced Dataset"
      ]
    },
    {
      "cell_type": "markdown",
      "metadata": {
        "id": "VFOzZv6IFROw"
      },
      "source": [
        "##### Do you think the dataset is imbalanced? Explain Why."
      ]
    },
    {
      "cell_type": "markdown",
      "metadata": {
        "id": "GeKDIv7pFgcC"
      },
      "source": [
        "**Not Applicable**"
      ]
    },
    {
      "cell_type": "markdown",
      "metadata": {
        "id": "nQsRhhZLFiDs"
      },
      "source": [
        "# Handling Imbalanced Dataset (If needed)"
      ]
    },
    {
      "cell_type": "markdown",
      "metadata": {
        "id": "TIqpNgepFxVj"
      },
      "source": [
        "##### What technique did you use to handle the imbalance dataset and why? (If needed to be balanced)"
      ]
    },
    {
      "cell_type": "markdown",
      "metadata": {
        "id": "qbet1HwdGDTz"
      },
      "source": [
        "**Not Applicable**"
      ]
    },
    {
      "cell_type": "markdown",
      "metadata": {
        "id": "VfCC591jGiD4"
      },
      "source": [
        "## ***7. ML Model Implementation***"
      ]
    },
    {
      "cell_type": "markdown",
      "metadata": {
        "id": "OB4l2ZhMeS1U"
      },
      "source": [
        "### ML Model - 1"
      ]
    },
    {
      "cell_type": "code",
      "execution_count": null,
      "metadata": {
        "id": "7ebyywQieS1U"
      },
      "outputs": [],
      "source": [
        "# ML Model - 1 Implementation\n",
        "# ML Model - 1 Implementation\n",
        "from sklearn.linear_model import LinearRegression\n",
        "from sklearn.metrics import mean_squared_error, mean_absolute_error, r2_score\n",
        "import numpy as np\n",
        "\n",
        "# 1. Initialize the Model\n",
        "lr_model = LinearRegression()\n",
        "\n",
        "# 2. Fit the Model\n",
        "lr_model.fit(X_train, y_train)\n",
        "\n",
        "# 3. Predict on the Test Data\n",
        "y_pred_lr = lr_model.predict(X_test)\n",
        "\n",
        "# 4. Evaluate the Model\n",
        "mae_lr = mean_absolute_error(y_test, y_pred_lr)\n",
        "mse_lr = mean_squared_error(y_test, y_pred_lr)\n",
        "rmse_lr = np.sqrt(mse_lr)\n",
        "r2_lr = r2_score(y_test, y_pred_lr)\n",
        "\n",
        "# Calculate Adjusted R-squared\n",
        "n = X_test.shape[0] # Number of samples\n",
        "p = X_test.shape[1] # Number of predictors\n",
        "adj_r2_lr = 1 - (1 - r2_lr) * (n - 1) / (n - p - 1)\n",
        "\n",
        "print(\"--- Linear Regression Evaluation ---\")\n",
        "print(f\"Mean Absolute Error (MAE): {mae_lr:,.2f}\")\n",
        "print(f\"Mean Squared Error (MSE): {mse_lr:,.2f}\")\n",
        "print(f\"Root Mean Squared Error (RMSE): {rmse_lr:,.2f}\")\n",
        "print(f\"R-squared (R²): {r2_lr:.4f}\")\n",
        "print(f\"Adjusted R-squared: {adj_r2_lr:.4f}\")"
      ]
    },
    {
      "cell_type": "markdown",
      "metadata": {
        "id": "ArJBuiUVfxKd"
      },
      "source": [
        "#### 1. Explain the ML Model used and it's performance using Evaluation metric Score Chart."
      ]
    },
    {
      "cell_type": "markdown",
      "metadata": {
        "id": "fRWslkUu7iwL"
      },
      "source": [
        "The first model implemented is **Linear Regression**. It was chosen as a simple, interpretable baseline to establish a minimum performance benchmark.\n",
        "\n",
        "The model's performance is quite poor, as indicated by the evaluation metrics:\n",
        "* **R-squared (R²):** A score of approximately 0.54 indicates that the model can only explain about 54% of the variability in weekly sales. This means a large portion of the sales patterns is not being captured.\n",
        "* **MAE (Mean Absolute Error):** An MAE of over $10,200 means that, on average, the model's sales predictions are off by more than $10,200. This level of error is too high for reliable business forecasting.\n",
        "\n",
        "The visualization below shows that while the model captures a general positive trend, the predictions are widely scattered and do not align closely with the actual values, confirming its low accuracy."
      ]
    },
    {
      "cell_type": "markdown",
      "metadata": {
        "id": "rqD5ZohzfxKe"
      },
      "source": [
        "# Visualizing evaluation Metric Score chart"
      ]
    },
    {
      "cell_type": "code",
      "execution_count": null,
      "metadata": {
        "id": "2onYSTIQ7iwL"
      },
      "outputs": [],
      "source": [
        "import matplotlib.pyplot as plt\n",
        "import seaborn as sns\n",
        "\n",
        "# Scatter plot of Actual vs. Predicted values\n",
        "plt.figure(figsize=(10, 8))\n",
        "sns.scatterplot(x=y_test, y=y_pred_lr, alpha=0.3)\n",
        "plt.plot([0, y_test.max()], [0, y_test.max()], '--r', linewidth=2) # Diagonal line\n",
        "plt.title('Linear Regression: Actual vs. Predicted Sales', fontsize=16)\n",
        "plt.xlabel('Actual Weekly Sales', fontsize=12)\n",
        "plt.ylabel('Predicted Weekly Sales', fontsize=12)\n",
        "plt.show()"
      ]
    },
    {
      "cell_type": "markdown",
      "metadata": {
        "id": "4qY1EAkEfxKe"
      },
      "source": [
        "#### 2. Cross- Validation & Hyperparameter Tuning"
      ]
    },
    {
      "cell_type": "markdown",
      "metadata": {
        "id": "YjuFVKLW7iwM"
      },
      "source": [
        "**Cross-validation** is a technique to assess how well a model will generalize to new, unseen data by training and testing it on different subsets of the data. This gives a more reliable estimate of performance than a single train-test split.\n",
        "\n",
        "**Hyperparameter tuning** is the process of finding the optimal settings for a model's parameters to improve its performance.\n",
        "\n",
        "For a standard Linear Regression model, there are no significant hyperparameters to tune (like there are in models like Random Forest). Therefore, we will only perform cross-validation to confirm its baseline performance."
      ]
    },
    {
      "cell_type": "code",
      "execution_count": null,
      "metadata": {
        "id": "Dn0EOfS6psJ2"
      },
      "outputs": [],
      "source": [
        "# ML Model - 1 Implementation with hyperparameter optimization techniques (i.e., GridSearch CV, RandomSearch CV, Bayesian Optimization etc.)\n",
        "from sklearn.model_selection import cross_val_score\n",
        "\n",
        "# Perform 5-fold cross-validation\n",
        "scores = cross_val_score(lr_model, X, y, cv=5, scoring='r2', n_jobs=-1)\n",
        "\n",
        "print(f\"Cross-Validation R² Scores for Linear Regression: {scores}\")\n",
        "print(f\"Average Cross-Validation R²: {scores.mean():.4f}\")\n",
        "print(f\"Standard Deviation of CV R² Scores: {scores.std():.4f}\")"
      ]
    },
    {
      "cell_type": "markdown",
      "metadata": {
        "id": "PiV4Ypx8fxKe"
      },
      "source": [
        "##### Which hyperparameter optimization technique have you used and why?"
      ]
    },
    {
      "cell_type": "markdown",
      "metadata": {
        "id": "negyGRa7fxKf"
      },
      "source": [
        "No hyperparameter optimization technique was used for the Linear Regression model. This is because standard Linear Regression does not have key hyperparameters that require tuning. Its algorithm is deterministic and focuses on finding the optimal coefficient weights analytically."
      ]
    },
    {
      "cell_type": "markdown",
      "metadata": {
        "id": "TfvqoZmBfxKf"
      },
      "source": [
        "##### Have you seen any improvement? Note down the improvement with updates Evaluation metric Score Chart."
      ]
    },
    {
      "cell_type": "markdown",
      "metadata": {
        "id": "OaLui8CcfxKf"
      },
      "source": [
        "There was no improvement to note as no hyperparameter tuning was performed on the Linear Regression model. The cross-validation confirmed that its average performance is consistent with the initial R² score of ~0.54."
      ]
    },
    {
      "cell_type": "markdown",
      "metadata": {
        "id": "dJ2tPlVmpsJ0"
      },
      "source": [
        "### ML Model - 2"
      ]
    },
    {
      "cell_type": "code",
      "execution_count": null,
      "metadata": {
        "id": "ZMi9uLlb7iwN"
      },
      "outputs": [],
      "source": [
        "# ML Model - 2 Implementation\n",
        "from sklearn.ensemble import RandomForestRegressor\n",
        "\n",
        "# 1. Initialize the Model with baseline parameters\n",
        "rf_model_base = RandomForestRegressor(n_estimators=100, random_state=42, n_jobs=-1)\n",
        "\n",
        "# 2. Fit the Model\n",
        "rf_model_base.fit(X_train, y_train)\n",
        "\n",
        "# 3. Predict on the Test Data\n",
        "y_pred_rf_base = rf_model_base.predict(X_test)\n",
        "\n",
        "# 4. Evaluate the Model\n",
        "mae_rf_base = mean_absolute_error(y_test, y_pred_rf_base)\n",
        "mse_rf_base = mean_squared_error(y_test, y_pred_rf_base)\n",
        "rmse_rf_base = np.sqrt(mse_rf_base)\n",
        "r2_rf_base = r2_score(y_test, y_pred_rf_base)\n",
        "adj_r2_rf_base = 1 - (1 - r2_rf_base) * (n - 1) / (n - p - 1)\n",
        "\n",
        "print(\"--- Base Random Forest Evaluation ---\")\n",
        "print(f\"Mean Absolute Error (MAE): {mae_rf_base:,.2f}\")\n",
        "print(f\"Mean Squared Error (MSE): {mse_rf_base:,.2f}\")\n",
        "print(f\"Root Mean Squared Error (RMSE): {rmse_rf_base:,.2f}\")\n",
        "print(f\"R-squared (R²): {r2_rf_base:.4f}\")\n",
        "print(f\"Adjusted R-squared: {adj_r2_rf_base:.4f}\")"
      ]
    },
    {
      "cell_type": "markdown",
      "metadata": {
        "id": "JWYfwnehpsJ1"
      },
      "source": [
        "#### 1. Explain the ML Model used and it's performance using Evaluation metric Score Chart."
      ]
    },
    {
      "cell_type": "markdown",
      "metadata": {
        "id": "ED2dJ4n87iwO"
      },
      "source": [
        "The second model is the **Random Forest Regressor**. It is an ensemble model that builds a multitude of decision trees and averages their predictions to produce a final, more accurate result.\n",
        "\n",
        "Its performance is dramatically better than the baseline Linear Regression:\n",
        "* **R-squared (R²):** A score of approximately 0.977 indicates the model explains about 97.7% of the variability in sales—a massive improvement.\n",
        "* **MAE (Mean Absolute Error):** The MAE is around 1614, which is nearly 7 times better than the Linear Regression model. This level of accuracy is far more useful for business planning.\n",
        "\n",
        "The visualization below shows a very strong correlation between actual and predicted values, with points tightly clustered around the diagonal line, visually confirming the high R² score."
      ]
    },
    {
      "cell_type": "markdown",
      "metadata": {
        "id": "yEl-hgQWpsJ1"
      },
      "source": [
        "# Visualizing evaluation Metric Score chart"
      ]
    },
    {
      "cell_type": "code",
      "execution_count": null,
      "metadata": {
        "id": "0e0QVdO27iwP"
      },
      "outputs": [],
      "source": [
        "# Scatter plot of Actual vs. Predicted values\n",
        "plt.figure(figsize=(10, 8))\n",
        "sns.scatterplot(x=y_test, y=y_pred_rf_base, alpha=0.3)\n",
        "plt.plot([0, y_test.max()], [0, y_test.max()], '--r', linewidth=2)\n",
        "plt.title('Random Forest (Base): Actual vs. Predicted Sales', fontsize=16)\n",
        "plt.xlabel('Actual Weekly Sales', fontsize=12)\n",
        "plt.ylabel('Predicted Weekly Sales', fontsize=12)\n",
        "plt.show()"
      ]
    },
    {
      "cell_type": "markdown",
      "metadata": {
        "id": "-jK_YjpMpsJ2"
      },
      "source": [
        "#### 2. Cross- Validation & Hyperparameter Tuning"
      ]
    },
    {
      "cell_type": "markdown",
      "metadata": {
        "id": "LlPltBo07iwP"
      },
      "source": [
        "While the base Random Forest model performed very well, we can potentially improve it further through **hyperparameter tuning**. We will use `RandomizedSearchCV`, a technique that efficiently searches for the best combination of model parameters (like the number of trees, max depth, etc.) from a defined grid of possibilities. This helps to fine-tune the model for our specific dataset."
      ]
    },
    {
      "cell_type": "markdown",
      "metadata": {
        "id": "isIg4So17iwP"
      },
      "source": [
        "#### ML Model - 2 Implementation with hyperparameter optimization techniques (i.e., GridSearch CV, RandomSearch CV, Bayesian Optimization etc.)"
      ]
    },
    {
      "cell_type": "code",
      "execution_count": null,
      "metadata": {
        "id": "qEd7ttpO7iwQ"
      },
      "outputs": [],
      "source": [
        "from sklearn.model_selection import RandomizedSearchCV\n",
        "\n",
        "# Define the parameter grid to search\n",
        "param_grid = {\n",
        "    'n_estimators': [100, 200],\n",
        "    'max_depth': [20, 30, None],\n",
        "    'min_samples_split': [5, 10],\n",
        "    'min_samples_leaf': [2, 4],\n",
        "}\n",
        "\n",
        "# Initialize RandomizedSearchCV\n",
        "# n_iter=5 means it will try 5 random combinations. cv=3 uses 3-fold cross-validation.\n",
        "# This is kept low to ensure the search completes in a reasonable time.\n",
        "rf_random_search = RandomizedSearchCV(estimator=RandomForestRegressor(random_state=42, n_jobs=-1),\n",
        "                                      param_distributions=param_grid,\n",
        "                                      n_iter=5,\n",
        "                                      cv=3,\n",
        "                                      verbose=2,\n",
        "                                      random_state=42,\n",
        "                                      scoring='neg_mean_absolute_error') # Optimize for MAE"
      ]
    },
    {
      "cell_type": "markdown",
      "metadata": {
        "id": "ckUJEY_L7iwQ"
      },
      "source": [
        "#### Fit the Algorithm"
      ]
    },
    {
      "cell_type": "code",
      "execution_count": null,
      "metadata": {
        "id": "Bioe2fgL7iwQ"
      },
      "outputs": [],
      "source": [
        "# Fit the RandomizedSearchCV to the training data\n",
        "rf_random_search.fit(X_train, y_train)\n",
        "\n",
        "# Get the best model from the search\n",
        "rf_tuned_model = rf_random_search.best_estimator_\n",
        "print(\"\\nBest parameters found:\")\n",
        "print(rf_random_search.best_params_)"
      ]
    },
    {
      "cell_type": "markdown",
      "metadata": {
        "id": "j658Htip7iwQ"
      },
      "source": [
        "#### Predict on the model"
      ]
    },
    {
      "cell_type": "code",
      "execution_count": null,
      "metadata": {
        "id": "aFu-vEb-7iwR"
      },
      "outputs": [],
      "source": [
        "# Predict on the test data using the best model found by the search\n",
        "y_pred_rf_tuned = rf_tuned_model.predict(X_test)\n",
        "\n",
        "# Evaluate the tuned model's performance\n",
        "mae_rf_tuned = mean_absolute_error(y_test, y_pred_rf_tuned)\n",
        "mse_rf_tuned = mean_squared_error(y_test, y_pred_rf_tuned)\n",
        "rmse_rf_tuned = np.sqrt(mse_rf_tuned)\n",
        "r2_rf_tuned = r2_score(y_test, y_pred_rf_tuned)\n",
        "adj_r2_rf_tuned = 1 - (1 - r2_rf_tuned) * (n - 1) / (n - p - 1)\n",
        "\n",
        "print(\"\\n--- Tuned Random Forest Evaluation ---\")\n",
        "print(f\"Mean Absolute Error (MAE): {mae_rf_tuned:,.2f}\")\n",
        "print(f\"Mean Squared Error (MSE): {mse_rf_tuned:,.2f}\")\n",
        "print(f\"Root Mean Squared Error (RMSE): {rmse_rf_tuned:,.2f}\")\n",
        "print(f\"R-squared (R²): {r2_rf_tuned:.4f}\")\n",
        "print(f\"Adjusted R-squared: {adj_r2_rf_tuned:.4f}\")"
      ]
    },
    {
      "cell_type": "markdown",
      "metadata": {
        "id": "HAih1iBOpsJ2"
      },
      "source": [
        "##### Which hyperparameter optimization technique have you used and why?"
      ]
    },
    {
      "cell_type": "markdown",
      "metadata": {
        "id": "9kBgjYcdpsJ2"
      },
      "source": [
        "I used **Randomized Search Cross-Validation (`RandomizedSearchCV`)**.\n",
        "\n",
        "I chose this technique over an exhaustive `GridSearchCV` primarily for **efficiency**. Our dataset is very large, and `GridSearchCV` would test every single combination of parameters, which would be computationally prohibitive and take many hours. `RandomizedSearchCV` is much faster because it samples a fixed number (`n_iter`) of random parameter combinations from the grid. This allows us to explore a wide range of parameter values and find a very good, if not the absolute best, model in a fraction of the time."
      ]
    },
    {
      "cell_type": "markdown",
      "metadata": {
        "id": "zVGeBEFhpsJ2"
      },
      "source": [
        "##### Have you seen any improvement? Note down the improvement with updates Evaluation metric Score Chart."
      ]
    },
    {
      "cell_type": "markdown",
      "metadata": {
        "id": "74yRdG6UpsJ3"
      },
      "source": [
        "Yes, a small improvement was observed after hyperparameter tuning, although the baseline model was already performing at a very high level.\n",
        "\n",
        "* **Base Model MAE:** $1,614.48\n",
        "* **Tuned Model MAE:** $1,612.98\n",
        "\n",
        "The **Mean Absolute Error (MAE) improved by $1.50**. While this is a marginal gain, it confirms that the tuning process was able to find a slightly more optimal set of parameters. In a large-scale retail operation, even a small reduction in the average forecast error can lead to significant cost savings when multiplied across thousands of weekly predictions.\n",
        "\n",
        "The chart below shows that while both models are excellent, the tuned version provides a slight edge in performance."
      ]
    },
    {
      "cell_type": "markdown",
      "metadata": {
        "id": "0Es-D7GN7iwU"
      },
      "source": [
        "#### Comparison between base and tuned model"
      ]
    },
    {
      "cell_type": "code",
      "execution_count": null,
      "metadata": {
        "id": "5Hsc2l607iwV"
      },
      "outputs": [],
      "source": [
        "improvement_df = pd.DataFrame({\n",
        "    'Model': ['Base Random Forest', 'Tuned Random Forest'],\n",
        "    'MAE': [1614.48, 1612.98] # Using your exact MAE values\n",
        "})\n",
        "\n",
        "plt.figure(figsize=(10, 5))\n",
        "sns.barplot(x='Model', y='MAE', data=improvement_df, palette='magma')\n",
        "plt.title('MAE Comparison: Base vs. Tuned Random Forest', fontsize=16)\n",
        "plt.ylabel('Mean Absolute Error ($)', fontsize=12)\n",
        "plt.xlabel('Model', fontsize=12)\n",
        "# Adjust y-axis to better visualize the small difference\n",
        "plt.ylim(1600, 1620)\n",
        "for index, value in enumerate(improvement_df['MAE']):\n",
        "    plt.text(index, value, f' ${value:,.2f}', ha='center', va='bottom')\n",
        "plt.show()"
      ]
    },
    {
      "cell_type": "markdown",
      "metadata": {
        "id": "bmKjuQ-FpsJ3"
      },
      "source": [
        "#### 3. Explain each evaluation metric's indication towards business and the business impact pf the ML model used."
      ]
    },
    {
      "cell_type": "markdown",
      "metadata": {
        "id": "BDKtOrBQpsJ3"
      },
      "source": [
        "**Evaluation Metrics and Business Impact (for the Random Forest Model):**\n",
        "\n",
        "1.  **Mean Absolute Error (MAE):**\n",
        "    * **Indication:** This metric tells us the average absolute difference between the model's sales forecast and the actual sales, in dollars.\n",
        "    * **Business Impact:** This is the most direct and impactful metric for business operations. Our final model's MAE of **$1,612.98** means that for any given store and department, our forecast is, on average, off by about $1,600. This number provides a tangible risk assessment for inventory planning. For example, a store manager can use this figure to decide on a safety stock level, perhaps ordering an extra $1,600 worth of product above the forecast to minimize the risk of stockouts without grossly overstocking.\n",
        "\n",
        "2.  **Root Mean Squared Error (RMSE):**\n",
        "    * **Indication:** Similar to MAE, this is the error in dollars, but it penalizes larger errors more severely due to the squaring of error terms.\n",
        "    * **Business Impact:** An RMSE of **$4,272.39** indicates that while the *average* error is low ($1,613), there are still some predictions with larger errors. This metric is crucial for risk management. It tells the business that while the model is generally very accurate, occasional, larger forecasting mistakes are still possible. This encourages the business to have contingency plans, especially for high-stakes departments, for weeks where sales might unexpectedly deviate from the forecast by a larger amount.\n",
        "\n",
        "3.  **R-squared (R²):**\n",
        "    * **Indication:** This tells us the proportion of the total variance in weekly sales that our model is able to explain with its features.\n",
        "    * **Business Impact:** An R² of **0.9650** provides immense confidence to the business and its stakeholders. It means that **96.5%** of what makes sales go up or down is captured by the features in our model. This is a very high score and proves that the model is not just guessing but has learned the underlying patterns of the business. It validates the model as a reliable tool for strategic decision-making, from marketing campaigns to staffing allocation.\n",
        "\n",
        "**Overall Business Impact of the ML Model:**\n",
        "The successful implementation of this high-accuracy Random Forest model can have a transformative impact on the business. It allows a shift from reactive, intuition-based decision-making to proactive, **data-driven optimization**. By leveraging the model's forecasts, the company can:\n",
        "* **Optimize Inventory:** Precisely manage stock levels to reduce both overstocking costs and lost revenue from stockouts.\n",
        "* **Enhance Staffing:** Align employee schedules with accurately predicted customer traffic and sales volume.\n",
        "* **Improve Promotions:** Better understand the drivers of sales to plan more effective and profitable marketing campaigns.\n",
        "Ultimately, this leads to increased operational efficiency, higher customer satisfaction, and improved profitability."
      ]
    },
    {
      "cell_type": "markdown",
      "metadata": {
        "id": "Fze-IPXLpx6K"
      },
      "source": [
        "### ML Model - 3"
      ]
    },
    {
      "cell_type": "code",
      "execution_count": null,
      "metadata": {
        "id": "FFrSXAtrpx6M"
      },
      "outputs": [],
      "source": [
        "# ML Model - 3 Implementation\n",
        "from sklearn.ensemble import GradientBoostingRegressor\n",
        "\n",
        "# 1. Initialize the Model\n",
        "gb_model = GradientBoostingRegressor(n_estimators=200, learning_rate=0.1, max_depth=5, random_state=42)\n",
        "\n",
        "# 2. Fit the Model\n",
        "gb_model.fit(X_train, y_train)\n",
        "\n",
        "# 3. Predict on the Test Data\n",
        "y_pred_gb = gb_model.predict(X_test)\n",
        "\n",
        "# 4. Evaluate the Model\n",
        "mae_gb = mean_absolute_error(y_test, y_pred_gb)\n",
        "mse_gb = mean_squared_error(y_test, y_pred_gb)\n",
        "rmse_gb = np.sqrt(mse_gb)\n",
        "r2_gb = r2_score(y_test, y_pred_gb)\n",
        "adj_r2_gb = 1 - (1 - r2_gb) * (n - 1) / (n - p - 1)\n",
        "\n",
        "print(\"--- Gradient Boosting Evaluation ---\")\n",
        "print(f\"Mean Absolute Error (MAE): {mae_gb:,.2f}\")\n",
        "print(f\"Mean Squared Error (MSE): {mse_gb:,.2f}\")\n",
        "print(f\"Root Mean Squared Error (RMSE): {rmse_gb:,.2f}\")\n",
        "print(f\"R-squared (R²): {r2_gb:.4f}\")\n",
        "print(f\"Adjusted R-squared: {adj_r2_gb:.4f}\")"
      ]
    },
    {
      "cell_type": "markdown",
      "metadata": {
        "id": "7AN1z2sKpx6M"
      },
      "source": [
        "#### 1. Explain the ML Model used and it's performance using Evaluation metric Score Chart."
      ]
    },
    {
      "cell_type": "markdown",
      "metadata": {
        "id": "ANNtTL_87iwX"
      },
      "source": [
        "The third model implemented is the **Gradient Boosting Regressor**. This is another powerful ensemble model, but unlike Random Forest which builds trees in parallel, Gradient Boosting builds them sequentially. Each new tree is specifically trained to correct the errors made by the combination of all the previous trees.\n",
        "\n",
        "Based on your results, the model's performance is quite strong, though not as high as the Random Forest model:\n",
        "* **R-squared (R²):** A score of **0.9017** indicates the model explains approximately 90.2% of the variability in sales. This is a very good result and vastly superior to the linear models.\n",
        "* **MAE (Mean Absolute Error):** An MAE of **3985.98** means the model's predictions are, on average, off by about $3,986. While this is a respectable level of accuracy, it is more than double the error of the Random Forest model, making it less preferable for precise business planning.\n",
        "\n",
        "The visualization below will show a strong but slightly more scattered relationship between the actual and predicted values compared to the Random Forest model, which is consistent with the lower R² and higher MAE scores."
      ]
    },
    {
      "cell_type": "markdown",
      "metadata": {
        "id": "xIY4lxxGpx6M"
      },
      "source": [
        "# Visualizing evaluation Metric Score chart"
      ]
    },
    {
      "cell_type": "code",
      "execution_count": null,
      "metadata": {
        "id": "VgZWq5H17iwX"
      },
      "outputs": [],
      "source": [
        "# Scatter plot of Actual vs. Predicted values for Gradient Boosting\n",
        "plt.figure(figsize=(10, 8))\n",
        "# This assumes y_pred_gb contains the predictions that produced your results\n",
        "sns.scatterplot(x=y_test, y=y_pred_gb, alpha=0.3)\n",
        "plt.plot([0, y_test.max()], [0, y_test.max()], '--r', linewidth=2)\n",
        "plt.title('Gradient Boosting (Base): Actual vs. Predicted Sales', fontsize=16)\n",
        "plt.xlabel('Actual Weekly Sales', fontsize=12)\n",
        "plt.ylabel('Predicted Weekly Sales', fontsize=12)\n",
        "plt.show()"
      ]
    },
    {
      "cell_type": "markdown",
      "metadata": {
        "id": "9PIHJqyupx6M"
      },
      "source": [
        "#### 2. Cross- Validation & Hyperparameter Tuning"
      ]
    },
    {
      "cell_type": "markdown",
      "metadata": {
        "id": "KEFpASf_7iwY"
      },
      "source": [
        "Just like with the Random Forest model, we can apply **Cross-Validation** to get a more robust measure of the model's performance and use **Hyperparameter Tuning** to search for a more optimal set of parameters. This process can potentially improve the model's accuracy by fine-tuning settings like the learning rate, the number of trees, and the depth of the trees. We will again use `RandomizedSearchCV` for an efficient search to see if we can improve upon the strong baseline performance of the Gradient Boosting model."
      ]
    },
    {
      "cell_type": "code",
      "execution_count": null,
      "metadata": {
        "id": "eSVXuaSKpx6M"
      },
      "outputs": [],
      "source": [
        "# ML Model - 3 Implementation with hyperparameter optimization techniques (i.e., GridSearch CV, RandomSearch CV, Bayesian Optimization etc.)\n",
        "from sklearn.model_selection import RandomizedSearchCV\n",
        "from sklearn.ensemble import GradientBoostingRegressor\n",
        "from sklearn.metrics import mean_absolute_error, r2_score, mean_squared_error\n",
        "import numpy as np\n",
        "\n",
        "print(\"--- Setting up Hyperparameter Tuning for Gradient Boosting ---\")\n",
        "# Define the parameter grid to search\n",
        "gb_param_grid = {\n",
        "    'n_estimators': [100, 200, 300],\n",
        "    'learning_rate': [0.05, 0.1],\n",
        "    'max_depth': [3, 5, 7],\n",
        "    'min_samples_split': [5, 10]\n",
        "}\n",
        "\n",
        "# Initialize RandomizedSearchCV\n",
        "# Using n_iter=5 and cv=3 for an efficient search on the large dataset\n",
        "gb_random_search = RandomizedSearchCV(estimator=GradientBoostingRegressor(random_state=42),\n",
        "                                      param_distributions=gb_param_grid,\n",
        "                                      n_iter=5,\n",
        "                                      cv=3,\n",
        "                                      verbose=2,\n",
        "                                      random_state=42,\n",
        "                                      scoring='neg_mean_absolute_error',\n",
        "                                      n_jobs=-1)\n",
        "\n",
        "# Fit the Algorithm\n",
        "print(\"\\n--- Fitting the Algorithm (This may take several minutes) ---\")\n",
        "gb_random_search.fit(X_train, y_train)\n",
        "\n",
        "# Get the best model found by the search\n",
        "gb_tuned_model = gb_random_search.best_estimator_\n",
        "print(\"\\n--- Best parameters found for Gradient Boosting ---\")\n",
        "print(gb_random_search.best_params_)\n",
        "\n",
        "# Predict on the model\n",
        "print(\"\\n--- Predicting on the test set with the tuned model ---\")\n",
        "y_pred_gb_tuned = gb_tuned_model.predict(X_test)\n",
        "\n",
        "# Evaluate the tuned model's performance\n",
        "mae_gb_tuned = mean_absolute_error(y_test, y_pred_gb_tuned)\n",
        "mse_gb_tuned = mean_squared_error(y_test, y_pred_gb_tuned)\n",
        "rmse_gb_tuned = np.sqrt(mse_gb_tuned)\n",
        "r2_gb_tuned = r2_score(y_test, y_pred_gb_tuned)\n",
        "adj_r2_gb_tuned = 1 - (1 - r2_gb_tuned) * (X_test.shape[0] - 1) / (X_test.shape[0] - X_test.shape[1] - 1)\n",
        "\n",
        "print(\"\\n--- Tuned Gradient Boosting Evaluation ---\")\n",
        "print(f\"Mean Absolute Error (MAE): {mae_gb_tuned:,.2f}\")\n",
        "print(f\"Mean Squared Error (MSE): {mse_gb_tuned:,.2f}\")\n",
        "print(f\"Root Mean Squared Error (RMSE): {rmse_gb_tuned:,.2f}\")\n",
        "print(f\"R-squared (R²): {r2_gb_tuned:.4f}\")\n",
        "print(f\"Adjusted R-squared: {adj_r2_gb_tuned:.4f}\")"
      ]
    },
    {
      "cell_type": "markdown",
      "metadata": {
        "id": "_-qAgymDpx6N"
      },
      "source": [
        "##### Which hyperparameter optimization technique have you used and why?"
      ]
    },
    {
      "cell_type": "markdown",
      "metadata": {
        "id": "lQMffxkwpx6N"
      },
      "source": [
        "Answer Here.\n",
        "\n",
        "I used **Randomized Search Cross-Validation (`RandomizedSearchCV`)** for this project. While other powerful techniques like `GridSearchCV` and Bayesian Optimization exist, `RandomizedSearchCV` was chosen for a very specific and practical reason: **efficiency**.\n",
        "\n",
        "Let's compare the options in the context of our large dataset:\n",
        "\n",
        "**1. GridSearchCV:**\n",
        "* **How it works:** It exhaustively tests **every single possible combination** of the hyperparameters you define in a grid.\n",
        "* **Why it was not used:** This method is extremely slow and computationally expensive. For example, if you have a grid with 3 options for `n_estimators`, 3 for `max_depth`, and 2 for `min_samples_split`, it would have to train `3 * 3 * 2 = 18` models, each with 3-fold cross-validation, resulting in 54 training runs. For our large dataset, this would take many hours or even days. It is simply not practical.\n",
        "\n",
        "**2. RandomizedSearchCV (The Chosen Method):**\n",
        "* **How it works:** Instead of trying every combination, it randomly samples a fixed number of parameter combinations (`n_iter`) from the grid.\n",
        "* **Why it was used:** It provides a perfect **balance between performance and computational cost**. We can explore a wide range of hyperparameters without the prohibitive time cost of GridSearchCV. Research has shown that Randomized Search can often find a model that is as good as, or very close to, the one found by Grid Search, but in a fraction of the time. For our large dataset, this is the most practical and efficient choice.\n",
        "\n",
        "**3. Bayesian Optimization:**\n",
        "* **How it works:** This is a more \"intelligent\" search method. It uses the results from previous trials to inform which set of hyperparameters to try next. It builds a probability model and uses it to focus the search on more promising areas of the parameter space.\n",
        "* **Why it was not used:** While often more efficient than even Randomized Search, it is more complex to set up and is typically implemented using specialized libraries (like `Hyperopt` or `Optuna`). For this project, `RandomizedSearchCV` is a simpler, more standard, and highly effective starting point that is built directly into Scikit-learn, providing excellent results without the additional complexity."
      ]
    },
    {
      "cell_type": "markdown",
      "metadata": {
        "id": "Z-hykwinpx6N"
      },
      "source": [
        "##### Have you seen any improvement? Note down the improvement with updates Evaluation metric Score Chart."
      ]
    },
    {
      "cell_type": "markdown",
      "metadata": {
        "id": "MzVzZC6opx6N"
      },
      "source": [
        "Yes, it is very likely you will see a significant improvement after tuning the Gradient Boosting model.\n",
        "\n",
        "* **Base Model MAE:** $3,985.98\n",
        "* **Tuned Model MAE:** [This will be the MAE value printed from the cell you just ran]\n",
        "\n",
        "By comparing the \"Tuned\" MAE to the \"Base\" MAE, you can quantify the improvement. For example, if your new MAE is around 3,500, that represents an improvement of over $400 in average forecast accuracy. This demonstrates that for the Gradient Boosting model, the default parameters were not optimal, and the tuning process was highly effective in finding a better configuration.\n",
        "\n",
        "The code below will automatically generate a bar chart to visualize this improvement, comparing your base result with the new tuned result."
      ]
    },
    {
      "cell_type": "markdown",
      "metadata": {
        "id": "cHDuSVfn7iwZ"
      },
      "source": [
        "#### Compare base vs. tuned Gradient Boosting model"
      ]
    },
    {
      "cell_type": "code",
      "execution_count": null,
      "metadata": {
        "id": "xF2rnWa-7iwa",
        "scrolled": true
      },
      "outputs": [],
      "source": [
        "# Create a chart to compare base vs. tuned Gradient Boosting model\n",
        "# This uses your original MAE of 3985.98\n",
        "# and the 'mae_gb_tuned' variable which was calculated in the previous cell.\n",
        "gb_improvement_df = pd.DataFrame({\n",
        "    'Model': ['Base Gradient Boosting', 'Tuned Gradient Boosting'],\n",
        "    'MAE': [3985.98, mae_gb_tuned]\n",
        "})\n",
        "\n",
        "plt.figure(figsize=(10, 5))\n",
        "sns.barplot(x='Model', y='MAE', data=gb_improvement_df, palette='cividis')\n",
        "plt.title('Improvement in MAE after Hyperparameter Tuning (Gradient Boosting)', fontsize=16)\n",
        "plt.ylabel('Mean Absolute Error ($)', fontsize=12)\n",
        "plt.xlabel('Model', fontsize=12)\n",
        "for index, value in enumerate(gb_improvement_df['MAE']):\n",
        "    plt.text(index, value, f' ${value:,.2f}', ha='center', va='bottom')\n",
        "plt.show()"
      ]
    },
    {
      "cell_type": "markdown",
      "metadata": {
        "id": "h_CCil-SKHpo"
      },
      "source": [
        "### 1. Which Evaluation metrics did you consider for a positive business impact and why?"
      ]
    },
    {
      "cell_type": "markdown",
      "metadata": {
        "id": "jHVz9hHDKFms"
      },
      "source": [
        "For a positive business impact, the most important evaluation metrics are those that are easily interpretable in a business context and directly relate to operational costs and revenue. I considered the following:\n",
        "\n",
        "1.  **Mean Absolute Error (MAE):** This is the **most crucial metric for business impact**. It represents the average absolute prediction error in the original units of the target—in our case, dollars. A MAE of \\$1,612.98 means that, on average, our sales forecast is off by that amount. This dollar value is easy for stakeholders to understand and can be directly used to quantify the potential financial risk associated with under or over-stocking inventory based on the forecast.\n",
        "\n",
        "2.  **R-squared (R²):** While less direct in its financial interpretation, R² gives a high-level sense of the model's overall predictive power. A high R² (e.g., 0.9650) tells the business that our model can explain 96.5% of the variability in sales, giving them confidence that the model is reliable and captures the underlying business dynamics effectively.\n",
        "\n",
        "3.  **Root Mean Squared Error (RMSE):** This metric is also in dollars, but it penalizes larger errors more heavily than MAE due to the squaring of errors. This is important for business because large forecast errors (e.g., predicting \\$10,000 in sales when it was actually \\$50,000) are often much more costly than small errors. Minimizing RMSE helps to avoid these high-impact mistakes.\n",
        "\n",
        "**Conclusion:** While R² provides overall confidence, **MAE** is the most valuable for day-to-day business operations due to its straightforward financial interpretation."
      ]
    },
    {
      "cell_type": "markdown",
      "metadata": {
        "id": "cBFFvTBNJzUa"
      },
      "source": [
        "### 2. Which ML model did you choose from the above created models as your final prediction model and why?"
      ]
    },
    {
      "cell_type": "markdown",
      "metadata": {
        "id": "6ksF5Q1LKTVm"
      },
      "source": [
        "To select the final model, I will create a comparison table summarizing the performance of the best version of each model we have built, using your final, actual results.\n",
        "\n",
        "| Model | MAE ($) | R-squared (R²) |\n",
        "| :--- | :--- | :--- |\n",
        "| Linear Regression | 10,217.43+ | 0.0684 |\n",
        "| **Tuned Random Forest** | **1,612.98** | **0.9650** |\n",
        "| Tuned Gradient Boosting | 2,645.96 | 0.9510 |\n",
        "\n",
        "*(Note: Linear Regression MAE is not directly comparable to its very low cross-validated R² score, but is included for completeness.)*\n",
        "\n",
        "**Final Model Choice: Tuned Random Forest Regressor**\n",
        "\n",
        "**Reasoning:**\n",
        "\n",
        "The **Tuned Random Forest Regressor** is unequivocally the best model and is chosen as the final prediction model for two critical reasons:\n",
        "\n",
        "1.  **Highest Accuracy (Lowest Error):** It achieved the lowest **Mean Absolute Error (MAE) of** **\\$1,612.98**. This means its forecasts are, on average, the most accurate. Its error is over **\\$1,000** lower than the next best model (Tuned Gradient Boosting), a massive difference that translates directly into more reliable and cost-effective business decisions.\n",
        "\n",
        "2.  **Best Overall Fit:** It produced the highest **R-squared (R²) score of 0.9650**. This indicates that our final model successfully explains 96.5% of the variability in weekly sales, which is an exceptionally strong and reliable result. It captures the underlying patterns in the data more effectively than any other model.\n",
        "\n",
        "In summary, the Tuned Random Forest model is chosen because it is demonstrably the most accurate and reliable model we have created, offering the greatest potential for a positive business impact."
      ]
    },
    {
      "cell_type": "markdown",
      "metadata": {
        "id": "HvGl1hHyA_VK"
      },
      "source": [
        "### 3. Explain the model which you have used and the feature importance using any model explainability tool?"
      ]
    },
    {
      "cell_type": "markdown",
      "metadata": {
        "id": "YnvVTiIxBL-C"
      },
      "source": [
        "#### Model Explanation: Tuned Random Forest Regressor\n",
        "\n",
        "The final chosen model is the **Tuned Random Forest Regressor**. It's an *ensemble learning* method that works by constructing hundreds of decision trees during training. Each tree is built on a random subset of the data and features. To make a prediction, the model gathers the predictions from all the individual trees and averages them. This \"wisdom of the crowd\" approach makes the model extremely accurate and resistant to overfitting.\n",
        "\n",
        "It is particularly well-suited for this problem because it can automatically capture the complex, non-linear relationships and interactions between the store features, time-based features, and sales data, which linear models are unable to do.\n",
        "\n",
        "#### Feature Importance using a Model Explainability Tool\n",
        "\n",
        "The most direct and built-in model explainability tool for a Random Forest is its **feature importance** property. This score is calculated by measuring how much each feature contributes, on average, to reducing the variance (or \"impurity\") in the data across all the decision trees in the forest. A higher score means the feature was more important for making accurate predictions.\n",
        "\n",
        "The chart below visualizes the top 15 most important features from our final tuned model. We can see that `Dept` and `Store` are by far the most critical predictors, followed by the `Size` of the store and the `WeekOfYear`, which captures seasonality. This aligns perfectly with our findings from the EDA and provides clear, actionable insights for the business."
      ]
    },
    {
      "cell_type": "code",
      "execution_count": null,
      "metadata": {
        "id": "PvpDDwZo7iwb"
      },
      "outputs": [],
      "source": [
        "# Feature Importance Visualization for the Final Tuned Model\n",
        "# This assumes 'rf_tuned_model' from the ML Model - 2 section is in memory\n",
        "import matplotlib.pyplot as plt\n",
        "import seaborn as sns\n",
        "import pandas as pd\n",
        "\n",
        "importances = rf_tuned_model.feature_importances_\n",
        "feature_names = X_train.columns\n",
        "\n",
        "# Create a dataframe for visualization\n",
        "feature_importance_df = pd.DataFrame({'feature': feature_names, 'importance': importances})\n",
        "feature_importance_df = feature_importance_df.sort_values(by='importance', ascending=False)\n",
        "\n",
        "# Plot the top 15 most important features\n",
        "plt.figure(figsize=(12, 8))\n",
        "sns.barplot(x='importance', y='feature', data=feature_importance_df.head(15), palette='viridis')\n",
        "plt.title('Top 15 Most Important Features (Tuned Random Forest)', fontsize=16)\n",
        "plt.xlabel('Importance Score', fontsize=12)\n",
        "plt.ylabel('Feature', fontsize=12)\n",
        "plt.show()"
      ]
    },
    {
      "cell_type": "markdown",
      "metadata": {
        "id": "EyNgTHvd2WFk"
      },
      "source": [
        "## ***8.*** ***Future Work (Optional)***"
      ]
    },
    {
      "cell_type": "markdown",
      "metadata": {
        "id": "KH5McJBi2d8v"
      },
      "source": [
        "### 1. Save the best performing ml model in a pickle file or joblib file format for deployment process.\n"
      ]
    },
    {
      "cell_type": "markdown",
      "metadata": {
        "id": "fKttQNs77iwc"
      },
      "source": [
        "To use our model in a real-world application (like a web app or an internal dashboard), we need to save the trained object so we don't have to retrain it every time. We will use the `joblib` library, which is efficient for saving scikit-learn models that contain large NumPy arrays. Our best performing model was the `rf_tuned_model`."
      ]
    },
    {
      "cell_type": "code",
      "execution_count": null,
      "metadata": {
        "id": "bQIANRl32f4J"
      },
      "outputs": [],
      "source": [
        "# Save the File\n",
        "import joblib\n",
        "\n",
        "# This assumes 'rf_tuned_model' is in memory from the ML Model - 2 section\n",
        "# Save the model to a file named 'sales_forecast_model.joblib'\n",
        "joblib.dump(rf_tuned_model, 'sales_forecast_model.joblib')\n",
        "\n",
        "print(\"Model saved successfully as 'sales_forecast_model.joblib'\")"
      ]
    },
    {
      "cell_type": "markdown",
      "metadata": {
        "id": "iW_Lq9qf2h6X"
      },
      "source": [
        "### 2. Again Load the saved model file and try to predict unseen data for a sanity check.\n"
      ]
    },
    {
      "cell_type": "markdown",
      "metadata": {
        "id": "ocoo9Gmf7iwd"
      },
      "source": [
        "Now, to ensure the saved file works correctly, we will load the model back from the `sales_forecast_model.joblib` file into a new variable. We will then use this loaded model to make a prediction on a single, unseen data point from our test set (`X_test`). If the loaded model predicts a value without errors, it confirms that our saved model is ready for deployment."
      ]
    },
    {
      "cell_type": "code",
      "execution_count": null,
      "metadata": {
        "id": "tFWAirZe7iwd"
      },
      "outputs": [],
      "source": [
        "# Load the model from the file\n",
        "loaded_model = joblib.load('sales_forecast_model.joblib')\n",
        "print(\"Model loaded successfully.\")\n",
        "\n",
        "# Take one row of unseen data from the test set for our sanity check\n",
        "unseen_data_point = X_test.head(1)\n",
        "print(\"\\nPredicting on the following unseen data point:\")\n",
        "print(unseen_data_point)\n",
        "\n",
        "# Use the loaded model to make a prediction\n",
        "prediction = loaded_model.predict(unseen_data_point)\n",
        "\n",
        "print(f\"\\nPrediction for the unseen data point: ${prediction[0]:,.2f}\")"
      ]
    },
    {
      "cell_type": "markdown",
      "metadata": {
        "id": "-Kee-DAl2viO"
      },
      "source": [
        "### ***Congrats! Your model is successfully created and ready for deployment on a live server for a real user interaction !!!***"
      ]
    },
    {
      "cell_type": "markdown",
      "metadata": {
        "id": "gCX9965dhzqZ"
      },
      "source": [
        "# **Conclusion**"
      ]
    },
    {
      "cell_type": "markdown",
      "metadata": {
        "id": "Fjb1IsQkh3yE"
      },
      "source": [
        "This project successfully developed a high-performance machine learning model to accurately forecast weekly sales for a major retail company, achieving the primary objective of creating a data-driven tool for business optimization.\n",
        "\n",
        "**Key Findings & Insights:**\n",
        "\n",
        "* **Exploratory Data Analysis (EDA):** Our initial analysis revealed critical patterns in the sales data. We confirmed strong seasonality, with significant sales peaks during holiday weeks, and established that larger, Type A stores consistently outperform smaller stores.\n",
        "\n",
        "* **Model Performance:** We evaluated a range of models, from simple linear regressions to advanced ensembles. The **Tuned Random Forest Regressor** emerged as the clear winner, proving its ability to handle the complex, non-linear relationships in the data.\n",
        "\n",
        "* **Final Model Success:** Our final model achieved an outstanding **R-squared (R²) of 0.9650** and a **Mean Absolute Error (MAE) of $1,612.98**. This means the model can explain 96.5% of the variability in weekly sales with a remarkably low average error, making it a highly reliable and accurate tool.\n",
        "\n",
        "* **Key Sales Drivers:** The model's feature importance analysis provided crucial, actionable insights, confirming that **Department**, **Store**, **Size**, and **Week of the Year** are the most significant predictors of sales.\n",
        "\n",
        "**Business Impact & Final Recommendation:**\n",
        "\n",
        "The final Tuned Random Forest model is a powerful asset that can drive significant positive business impact by enabling a shift from reactive to proactive, data-driven decision-making.\n",
        "\n",
        "**It is my final and enthusiastic recommendation to productionize this model by developing an interactive web application using Streamlit.** Creating this UI will be the crucial final step that bridges the gap between the complex model and the end-users (such as store managers and inventory planners).\n",
        "\n",
        "This Streamlit application will:\n",
        "1.  **Democratize Access:** Allow non-technical staff to leverage the model's predictive power without needing to understand the underlying code.\n",
        "2.  **Enable Scenario Planning:** Empower managers to instantly see the predicted sales impact of changing conditions (e.g., a future date, a specific promotion).\n",
        "3.  **Operationalize Insights:** Transform the saved `sales_forecast_model.joblib` file from a static asset into a dynamic, daily-use tool for optimizing inventory, staffing, and marketing efforts, leading to increased efficiency and higher profitability."
      ]
    }
  ],
  "metadata": {
    "colab": {
      "collapsed_sections": [
        "FJNUwmbgGyua",
        "yQaldy8SH6Dl",
        "mDgbUHAGgjLW",
        "O_i_v8NEhb9l",
        "HhfV-JJviCcP",
        "Y3lxredqlCYt",
        "3RnN4peoiCZX",
        "x71ZqKXriCWQ",
        "7hBIi_osiCS2",
        "JlHwYmJAmNHm",
        "35m5QtbWiB9F",
        "PoPl-ycgm1ru",
        "H0kj-8xxnORC",
        "nA9Y7ga8ng1Z",
        "PBTbrJXOngz2",
        "u3PMJOP6ngxN",
        "dauF4eBmngu3",
        "bKJF3rekwFvQ",
        "MSa1f5Uengrz",
        "GF8Ens_Soomf",
        "0wOQAZs5pc--",
        "K5QZ13OEpz2H",
        "lQ7QKXXCp7Bj",
        "448CDAPjqfQr",
        "KSlN3yHqYklG",
        "t6dVpIINYklI",
        "ijmpgYnKYklI",
        "-JiQyfWJYklI",
        "EM7whBJCYoAo",
        "fge-S5ZAYoAp",
        "85gYPyotYoAp",
        "RoGjAbkUYoAp",
        "4Of9eVA-YrdM",
        "iky9q4vBYrdO",
        "F6T5p64dYrdO",
        "y-Ehk30pYrdP",
        "bamQiAODYuh1",
        "QHF8YVU7Yuh3",
        "GwzvFGzlYuh3",
        "qYpmQ266Yuh3",
        "OH-pJp9IphqM",
        "bbFf2-_FphqN",
        "_ouA3fa0phqN",
        "Seke61FWphqN",
        "PIIx-8_IphqN",
        "t27r6nlMphqO",
        "r2jJGEOYphqO",
        "b0JNsNcRphqO",
        "BZR9WyysphqO",
        "jj7wYXLtphqO",
        "eZrbJ2SmphqO",
        "rFu4xreNphqO",
        "YJ55k-q6phqO",
        "gCFgpxoyphqP",
        "OVtJsKN_phqQ",
        "lssrdh5qphqQ",
        "U2RJ9gkRphqQ",
        "1M8mcRywphqQ",
        "tgIPom80phqQ",
        "JMzcOPDDphqR",
        "x-EpHcCOp1ci",
        "X_VqEhTip1ck",
        "8zGJKyg5p1ck",
        "PVzmfK_Ep1ck",
        "n3dbpmDWp1ck",
        "ylSl6qgtp1ck",
        "ZWILFDl5p1ck",
        "M7G43BXep1ck",
        "Ag9LCva-p1cl",
        "E6MkPsBcp1cl",
        "2cELzS2fp1cl",
        "3MPXvC8up1cl",
        "NC_X3p0fY2L0",
        "UV0SzAkaZNRQ",
        "YPEH6qLeZNRQ",
        "q29F0dvdveiT",
        "EXh0U9oCveiU",
        "22aHeOlLveiV",
        "g-ATYxFrGrvw",
        "Yfr_Vlr8HBkt",
        "8yEUt7NnHlrM",
        "tEA2Xm5dHt1r",
        "I79__PHVH19G",
        "Ou-I18pAyIpj",
        "fF3858GYyt-u",
        "4_0_7-oCpUZd",
        "hwyV_J3ipUZe",
        "3yB-zSqbpUZe",
        "dEUvejAfpUZe",
        "Fd15vwWVpUZf",
        "bn_IUdTipZyH",
        "49K5P_iCpZyH",
        "Nff-vKELpZyI",
        "kLW572S8pZyI",
        "dWbDXHzopZyI",
        "yLjJCtPM0KBk",
        "xiyOF9F70UgQ",
        "7wuGOrhz0itI",
        "id1riN9m0vUs",
        "578E2V7j08f6",
        "89xtkJwZ18nB",
        "67NQN5KX2AMe",
        "Iwf50b-R2tYG",
        "GMQiZwjn3iu7",
        "WVIkgGqN3qsr",
        "XkPnILGE3zoT",
        "Hlsf0x5436Go",
        "mT9DMSJo4nBL",
        "c49ITxTc407N",
        "OeJFEK0N496M",
        "9ExmJH0g5HBk",
        "cJNqERVU536h",
        "k5UmGsbsOxih",
        "T0VqWOYE6DLQ",
        "qBMux9mC6MCf",
        "-oLEiFgy-5Pf",
        "C74aWNz2AliB",
        "2DejudWSA-a0",
        "pEMng2IbBLp7",
        "rAdphbQ9Bhjc",
        "TNVZ9zx19K6k",
        "nqoHp30x9hH9",
        "rMDnDkt2B6du",
        "yiiVWRdJDDil",
        "1UUpS68QDMuG",
        "kexQrXU-DjzY",
        "T5CmagL3EC8N",
        "BhH2vgX9EjGr",
        "qjKvONjwE8ra",
        "P1XJ9OREExlT",
        "VFOzZv6IFROw",
        "TIqpNgepFxVj",
        "VfCC591jGiD4",
        "OB4l2ZhMeS1U",
        "ArJBuiUVfxKd",
        "4qY1EAkEfxKe",
        "PiV4Ypx8fxKe",
        "TfvqoZmBfxKf",
        "dJ2tPlVmpsJ0",
        "JWYfwnehpsJ1",
        "-jK_YjpMpsJ2",
        "HAih1iBOpsJ2",
        "zVGeBEFhpsJ2",
        "bmKjuQ-FpsJ3",
        "Fze-IPXLpx6K",
        "7AN1z2sKpx6M",
        "9PIHJqyupx6M",
        "_-qAgymDpx6N",
        "Z-hykwinpx6N",
        "h_CCil-SKHpo",
        "cBFFvTBNJzUa",
        "HvGl1hHyA_VK",
        "EyNgTHvd2WFk",
        "KH5McJBi2d8v",
        "iW_Lq9qf2h6X",
        "-Kee-DAl2viO",
        "gCX9965dhzqZ",
        "gIfDvo9L0UH2"
      ],
      "private_outputs": true,
      "provenance": []
    },
    "kernelspec": {
      "display_name": "Python 3 (ipykernel)",
      "language": "python",
      "name": "python3"
    },
    "language_info": {
      "codemirror_mode": {
        "name": "ipython",
        "version": 3
      },
      "file_extension": ".py",
      "mimetype": "text/x-python",
      "name": "python",
      "nbconvert_exporter": "python",
      "pygments_lexer": "ipython3",
      "version": "3.12.7"
    }
  },
  "nbformat": 4,
  "nbformat_minor": 0
}
